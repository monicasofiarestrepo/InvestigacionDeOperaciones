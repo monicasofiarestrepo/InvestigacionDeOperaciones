{
  "nbformat": 4,
  "nbformat_minor": 0,
  "metadata": {
    "colab": {
      "provenance": [],
      "include_colab_link": true
    },
    "kernelspec": {
      "name": "python3",
      "display_name": "Python 3"
    },
    "language_info": {
      "name": "python"
    }
  },
  "cells": [
    {
      "cell_type": "markdown",
      "metadata": {
        "id": "view-in-github",
        "colab_type": "text"
      },
      "source": [
        "<a href=\"https://colab.research.google.com/github/monicasofiarestrepo/InvestigacionDeOperaciones/blob/main/RutaCr%C3%ADtica_y_FlujoM%C3%A1ximo.ipynb\" target=\"_parent\"><img src=\"https://colab.research.google.com/assets/colab-badge.svg\" alt=\"Open In Colab\"/></a>"
      ]
    },
    {
      "cell_type": "code",
      "execution_count": null,
      "metadata": {
        "id": "TDKNcp19wD4T"
      },
      "outputs": [],
      "source": [
        "#@title Importar librerías\n",
        "import cvxpy as cvx\n",
        "import numpy as np"
      ]
    },
    {
      "cell_type": "code",
      "source": [
        "# Variables de decisión\n",
        "x = cvx.Variable((13,13), boolean = True)\n",
        "\n",
        "# Función objetivo:\n",
        "c = [\n",
        "    [-99999,-99999,-99999,-99999,-99999,-99999,-99999,-99999,-99999,-99999,-99999,-99999,-99999],\n",
        "    [2,-99999,-99999,-99999,-99999,-99999,-99999,-99999,-99999,-99999,-99999,-99999,-99999],\n",
        "    [-99999,4,-99999,-99999,-99999,-99999,-99999,-99999,-99999,-99999,-99999,-99999,-99999],\n",
        "    [-99999,-99999,10,-99999,-99999,-99999,-99999,-99999,-99999,-99999,-99999,-99999,-99999],\n",
        "    [-99999,-99999,-99999,4,-99999,-99999,-99999,-99999,-99999,-99999,-99999,-99999,-99999],\n",
        "    [-99999,-99999,-99999,6,-99999,-99999,-99999,-99999,-99999,-99999,-99999,-99999,-99999],\n",
        "    [-99999,-99999,-99999,7,5,-99999,-99999,-99999,-99999,-99999,-99999,-99999,-99999],\n",
        "    [-99999,-99999,-99999,-99999,0,7,-99999,-99999,-99999,-99999,-99999,-99999,-99999],\n",
        "    [-99999,-99999,-99999,-99999,-99999,-99999,8,-99999,-99999,-99999,-99999,-99999,-99999],\n",
        "    [-99999,-99999,-99999,-99999,-99999,-99999,-99999,9,-99999,-99999,-99999,-99999,-99999],\n",
        "    [-99999,-99999,-99999,-99999,-99999,-99999,-99999,-99999,4,-99999,-99999,-99999,-99999],\n",
        "    [-99999,-99999,-99999,-99999,-99999,-99999,-99999,-99999,5,-99999,0,-99999,-99999],\n",
        "    [-99999,-99999,-99999,-99999,-99999,-99999,-99999,-99999,-99999,2,-99999,6,-99999],\n",
        "  ]\n",
        "\n",
        "Z = cvx.Maximize(cvx.sum(cvx.multiply(c,x)))\n",
        "\n",
        "# Restricciones\n",
        "r = [\n",
        "    # de oferta\n",
        "     cvx.sum(x[0,:]) <= 1,\n",
        "\n",
        "    # de demanda\n",
        "     cvx.sum(x[:,12]) >= 1,\n",
        "\n",
        "    # de transbordo\n",
        "    cvx.sum(x[:,1]) - cvx.sum(x[1,:]) >= 0,\n",
        "    cvx.sum(x[:,2]) - cvx.sum(x[2,:]) >= 0,\n",
        "    cvx.sum(x[:,3]) - cvx.sum(x[3,:]) >= 0,\n",
        "    cvx.sum(x[:,4]) - cvx.sum(x[4,:]) >= 0,\n",
        "    cvx.sum(x[:,5]) - cvx.sum(x[5,:]) >= 0,\n",
        "    cvx.sum(x[:,6]) - cvx.sum(x[6,:]) >= 0,\n",
        "    cvx.sum(x[:,7]) - cvx.sum(x[7,:]) >= 0,\n",
        "    cvx.sum(x[:,8]) - cvx.sum(x[8,:]) >= 0,\n",
        "    cvx.sum(x[:,9]) - cvx.sum(x[9,:]) >= 0,\n",
        "    cvx.sum(x[:,10]) - cvx.sum(x[10,:]) >= 0,\n",
        "    cvx.sum(x[:,11]) - cvx.sum(x[11,:]) >= 0,\n",
        "]\n",
        "\n",
        "P = cvx.Problem(Z,r)\n",
        "P.solve()\n",
        "\n",
        "print(P.status)\n",
        "print(P.value)\n",
        "print(np.round(x.value,0))\n"
      ],
      "metadata": {
        "colab": {
          "base_uri": "https://localhost:8080/"
        },
        "id": "-Lp_twJbwHpO",
        "outputId": "3a96bee4-1e54-4e38-ec5c-e6db25d7a211"
      },
      "execution_count": null,
      "outputs": [
        {
          "output_type": "stream",
          "name": "stdout",
          "text": [
            "optimal\n",
            "44.0\n",
            "[[0. 1. 0. 0. 0. 0. 0. 0. 0. 0. 0. 0. 0.]\n",
            " [0. 0. 1. 0. 0. 0. 0. 0. 0. 0. 0. 0. 0.]\n",
            " [0. 0. 0. 1. 0. 0. 0. 0. 0. 0. 0. 0. 0.]\n",
            " [0. 0. 0. 0. 1. 0. 0. 0. 0. 0. 0. 0. 0.]\n",
            " [0. 0. 0. 0. 0. 0. 1. 0. 0. 0. 0. 0. 0.]\n",
            " [0. 0. 0. 0. 0. 0. 0. 0. 0. 0. 0. 0. 0.]\n",
            " [0. 0. 0. 0. 0. 0. 0. 0. 1. 0. 0. 0. 0.]\n",
            " [0. 0. 0. 0. 0. 0. 0. 0. 0. 0. 0. 0. 0.]\n",
            " [0. 0. 0. 0. 0. 0. 0. 0. 0. 0. 0. 1. 0.]\n",
            " [0. 0. 0. 0. 0. 0. 0. 0. 0. 0. 0. 0. 0.]\n",
            " [0. 0. 0. 0. 0. 0. 0. 0. 0. 0. 0. 0. 0.]\n",
            " [0. 0. 0. 0. 0. 0. 0. 0. 0. 0. 0. 0. 1.]\n",
            " [0. 0. 0. 0. 0. 0. 0. 0. 0. 0. 0. 0. 0.]]\n"
          ]
        }
      ]
    },
    {
      "cell_type": "markdown",
      "source": [
        "# Flujo máximo"
      ],
      "metadata": {
        "id": "BJYwIXmf8NED"
      }
    },
    {
      "cell_type": "code",
      "source": [
        "# Variables de decisión\n",
        "x = cvx.Variable((7,7), nonneg=True)\n",
        "\n",
        "# Función objetivo\n",
        "Z = cvx.Maximize(cvx.sum(x[:,6]))\n",
        "\n",
        "# Restricciones\n",
        "\n",
        "# capacidades de los enlaces\n",
        "b = [\n",
        "    [0,0,0,0,0,0,0],\n",
        "    [5000,0,2000,0,0,0,0],\n",
        "    [6000,2000,0,0,0,0,0],\n",
        "    [5000,0,3000,0,0,0,0],\n",
        "    [0,3000,3000,0,0,1000,0],\n",
        "    [0,0,7000,5000,1000,0,0],\n",
        "    [0,0,0,0,8000,7000,0],\n",
        "]\n",
        "\n",
        "r =[\n",
        "    # de capacidad\n",
        "    x <= b,\n",
        "\n",
        "    # de transbordo\n",
        "    cvx.sum(x[:,1]) - cvx.sum(x[1,:]) >= 0,\n",
        "    cvx.sum(x[:,2]) - cvx.sum(x[2,:]) >= 0,\n",
        "    cvx.sum(x[:,3]) - cvx.sum(x[3,:]) >= 0,\n",
        "    cvx.sum(x[:,4]) - cvx.sum(x[4,:]) >= 0,\n",
        "    cvx.sum(x[:,5]) - cvx.sum(x[5,:]) >= 0,\n",
        "\n",
        "    # evitar carros atrapados en la ciudad\n",
        "    cvx.sum(x[0,:]) == cvx.sum(x[:,6])\n",
        "]\n",
        "\n",
        "P = cvx.Problem(Z,r)\n",
        "P.solve()\n",
        "\n",
        "print(P.status)\n",
        "print(P.value)\n",
        "print(np.round(x.value,0))"
      ],
      "metadata": {
        "colab": {
          "base_uri": "https://localhost:8080/"
        },
        "id": "OKc5bQbd8MWn",
        "outputId": "fba1aa61-bb21-404d-ffa9-480b10d12335"
      },
      "execution_count": null,
      "outputs": [
        {
          "output_type": "stream",
          "name": "stdout",
          "text": [
            "optimal\n",
            "13999.999999789194\n",
            "[[   0. 4331. 5520. 4149.    0.    0.    0.]\n",
            " [   0.    0. 1666.    0. 3000.    0.    0.]\n",
            " [   0.  334.    0.  325. 3000. 3526.    0.]\n",
            " [   0.    0.    0.    0.    0. 4474.    0.]\n",
            " [   0.    0.    0.    0.    0.    0. 7000.]\n",
            " [   0.    0.    0.    0. 1000.    0. 7000.]\n",
            " [   0.    0.    0.    0.    0.    0.    0.]]\n"
          ]
        }
      ]
    },
    {
      "cell_type": "code",
      "source": [
        "cvx.sum(x[0,:]).value"
      ],
      "metadata": {
        "colab": {
          "base_uri": "https://localhost:8080/"
        },
        "id": "fzo74dIL-QBm",
        "outputId": "ad403d9c-becd-4fb1-a960-54656d92c9da"
      },
      "execution_count": null,
      "outputs": [
        {
          "output_type": "execute_result",
          "data": {
            "text/plain": [
              "13999.999999811067"
            ]
          },
          "metadata": {},
          "execution_count": 13
        }
      ]
    }
  ]
}