{
  "nbformat": 4,
  "nbformat_minor": 0,
  "metadata": {
    "colab": {
      "provenance": [],
      "include_colab_link": true
    },
    "kernelspec": {
      "name": "python3",
      "display_name": "Python 3"
    },
    "language_info": {
      "name": "python"
    }
  },
  "cells": [
    {
      "cell_type": "markdown",
      "metadata": {
        "id": "view-in-github",
        "colab_type": "text"
      },
      "source": [
        "<a href=\"https://colab.research.google.com/github/monicasofiarestrepo/InvestigacionDeOperaciones/blob/main/Transporte8.ipynb\" target=\"_parent\"><img src=\"https://colab.research.google.com/assets/colab-badge.svg\" alt=\"Open In Colab\"/></a>"
      ]
    },
    {
      "cell_type": "code",
      "source": [
        "import cvxpy as cvx\n",
        "import numpy as np"
      ],
      "metadata": {
        "id": "syFpIRsJzJ4H"
      },
      "execution_count": null,
      "outputs": []
    },
    {
      "cell_type": "markdown",
      "source": [
        "#Minas\n"
      ],
      "metadata": {
        "id": "iwgqwV3X0r5A"
      }
    },
    {
      "cell_type": "markdown",
      "source": [
        "O=D"
      ],
      "metadata": {
        "id": "GlVVe2wmTsJd"
      }
    },
    {
      "cell_type": "code",
      "source": [
        "# Variables de decisión\n",
        "x = cvx.Variable((3,4), nonneg = True)\n",
        "\n",
        "# Función objetivo:\n",
        "\n",
        "c = [\n",
        "    [751,419,307],\n",
        "    [392,896,335],\n",
        "    [987,385,400],\n",
        "    [663,542,317]\n",
        "]\n",
        "\n",
        "Z = cvx.Minimize(cvx.sum(cvx.multiply(c,x)))\n",
        "\n",
        "# Restricciones\n",
        "\n",
        "r = [\n",
        "    # oferta\n",
        "    cvx.sum(x[0,:]) <= 75,\n",
        "    cvx.sum(x[1,:]) <= 125,\n",
        "    cvx.sum(x[2,:]) <= 100,\n",
        "\n",
        "     # demanda\n",
        "    cvx.sum(x[:,0]) >= 80,\n",
        "    cvx.sum(x[:,1]) >= 65,\n",
        "    cvx.sum(x[:,2]) >= 70,\n",
        "    cvx.sum(x[:,3]) >= 85,\n",
        "\n",
        "]\n",
        "\n",
        "# Configurar el problema\n",
        "P = cvx.Problem(Z,r)\n",
        "\n",
        "# Solucionar\n",
        "P.solve()\n",
        "\n",
        "print(P.status)\n",
        "print(P.value)\n",
        "print(np.round(x.value,0))"
      ],
      "metadata": {
        "colab": {
          "base_uri": "https://localhost:8080/"
        },
        "id": "yPjCTrbuzXvo",
        "outputId": "59e89f4e-e205-41c9-8129-2175a5ceace3"
      },
      "execution_count": null,
      "outputs": [
        {
          "output_type": "stream",
          "name": "stdout",
          "text": [
            "optimal\n",
            "113555.00000850465\n",
            "[[ 0. 65.  0. 10.]\n",
            " [55.  0. 70.  0.]\n",
            " [25.  0.  0. 75.]]\n"
          ]
        }
      ]
    },
    {
      "cell_type": "markdown",
      "source": [
        "O=D Variación\n"
      ],
      "metadata": {
        "id": "UZuET8wP1Ucv"
      }
    },
    {
      "cell_type": "code",
      "source": [
        "# Variables de decisión\n",
        "x = cvx.Variable((3,4), nonneg = True)\n",
        "\n",
        "# Función objetivo:\n",
        "\n",
        "c = [\n",
        "    [967,529,312],\n",
        "    [836,783,773],\n",
        "    [931,446,749],\n",
        "    [874,493,792]\n",
        "]\n",
        "\n",
        "Z = cvx.Minimize(cvx.sum(cvx.multiply(c,x)))\n",
        "\n",
        "# Restricciones\n",
        "\n",
        "r = [\n",
        "    # oferta\n",
        "    cvx.sum(x[0,:]) <= 75,\n",
        "    cvx.sum(x[1,:]) <= 125,\n",
        "    cvx.sum(x[2,:]) <= 100,\n",
        "\n",
        "     # demanda\n",
        "    cvx.sum(x[:,0]) >= 80,\n",
        "    cvx.sum(x[:,1]) >= 65,\n",
        "    cvx.sum(x[:,2]) >= 70,\n",
        "    cvx.sum(x[:,3]) >= 85,\n",
        "\n",
        "]\n",
        "\n",
        "# Configurar el problema\n",
        "P = cvx.Problem(Z,r)\n",
        "\n",
        "# Solucionar\n",
        "P.solve()\n",
        "\n",
        "print(P.status)\n",
        "print(P.value)\n",
        "print(np.round(x.value,0))"
      ],
      "metadata": {
        "colab": {
          "base_uri": "https://localhost:8080/"
        },
        "id": "QYZ9A8HC1Wec",
        "outputId": "4e81c5d6-1a02-4f53-84c0-32d5dfcee289"
      },
      "execution_count": null,
      "outputs": [
        {
          "output_type": "stream",
          "name": "stdout",
          "text": [
            "optimal\n",
            "162215.0000131683\n",
            "[[ 0. 65.  0. 10.]\n",
            " [ 0.  0. 70. 55.]\n",
            " [80.  0.  0. 20.]]\n"
          ]
        }
      ]
    },
    {
      "cell_type": "markdown",
      "source": [
        "#Turbinas"
      ],
      "metadata": {
        "id": "DxvFusY_2acj"
      }
    },
    {
      "cell_type": "code",
      "source": [
        "# variables de decisión\n",
        "x = cvx.Variable((4,1), nonneg = True)\n",
        "c_x = [[190,239,179,253]]\n",
        "#[238,384,132,430]\n",
        "#[354,183,138,385]\n",
        "\n",
        "cm = 2\n",
        "a = cvx.Variable((4,1), nonneg = True)\n",
        "c_a = [[cm,cm,cm,cm]]\n",
        "\n",
        "# Definir la función objetivo\n",
        "Z = cvx.Minimize(cvx.sum(cvx.multiply(c_x,x)) + cvx.sum(cvx.multiply(c_a,a)))\n",
        "\n",
        "# Restricciones\n",
        "r = [\n",
        "     # Restricciones de oferta\n",
        "     x[0] <= 21,\n",
        "     x[1] <= 33,\n",
        "     x[2] <= 28,\n",
        "     x[3] <= 21,\n",
        "\n",
        "     # restricciones de demanda\n",
        "     x[0] - a[0] >= 10,\n",
        "     x[1] + a[0] - a[1] >= 15,\n",
        "     x[2] + a[1] - a[2] >= 25,\n",
        "     x[3] + a[2] - a[3] >= 20\n",
        "    ]\n",
        "\n",
        "# Configuración del problema\n",
        "P = cvx.Problem(Z,r)\n",
        "\n",
        "# Resolver\n",
        "P.solve()\n",
        "\n",
        "# Resultados\n",
        "print(P.status)\n",
        "print(np.round(P.value,1))\n",
        "print(np.round(x.value,0))"
      ],
      "metadata": {
        "colab": {
          "base_uri": "https://localhost:8080/"
        },
        "id": "UoclwsLU2bz_",
        "outputId": "74ae0be9-b399-4ea2-92b7-213daa275e15"
      },
      "execution_count": null,
      "outputs": [
        {
          "output_type": "stream",
          "name": "stdout",
          "text": [
            "optimal\n",
            "14117.0\n",
            "[[21.]\n",
            " [21.]\n",
            " [28.]\n",
            " [ 0.]]\n"
          ]
        }
      ]
    },
    {
      "cell_type": "markdown",
      "source": [
        "#Aguas"
      ],
      "metadata": {
        "id": "xk6JdKf5233-"
      }
    },
    {
      "cell_type": "markdown",
      "source": [
        "O>D"
      ],
      "metadata": {
        "id": "myAIXdt9T9eU"
      }
    },
    {
      "cell_type": "code",
      "source": [
        "# Variables de decisión\n",
        "x = cvx.Variable((3,4), nonneg = True)\n",
        "\n",
        "# Función objetivo:\n",
        "\n",
        "c = [\n",
        "    [5,3,6],\n",
        "    [2,6,1],\n",
        "    [7,6,2],\n",
        "    [3,1,4]\n",
        "]\n",
        "\n",
        "Z = cvx.Minimize(cvx.sum(cvx.multiply(c,x)))\n",
        "\n",
        "# Restricciones\n",
        "\n",
        "r = [\n",
        "    # oferta\n",
        "    cvx.sum(x[0,:]) <= 50,\n",
        "    cvx.sum(x[1,:]) <= 60,\n",
        "    cvx.sum(x[2,:]) <= 50,\n",
        "\n",
        "     # demanda\n",
        "    cvx.sum(x[:,0]) >= 30,\n",
        "    cvx.sum(x[:,1]) >= 70,\n",
        "    cvx.sum(x[:,2]) >= 0,\n",
        "    cvx.sum(x[:,3]) >= 10,\n",
        "\n",
        "]\n",
        "\n",
        "# Configurar el problema\n",
        "P = cvx.Problem(Z,r)\n",
        "\n",
        "# Solucionar\n",
        "P.solve()\n",
        "\n",
        "print(P.status)\n",
        "print(P.value)\n",
        "print(np.round(x.value,0))"
      ],
      "metadata": {
        "colab": {
          "base_uri": "https://localhost:8080/"
        },
        "id": "o6kJ2gub25WY",
        "outputId": "f3b4e213-3fb0-4187-d7a5-7911e537f5a7"
      },
      "execution_count": null,
      "outputs": [
        {
          "output_type": "stream",
          "name": "stdout",
          "text": [
            "optimal\n",
            "190.00000009265557\n",
            "[[ 0. 20.  0.  0.]\n",
            " [30.  0.  0. 10.]\n",
            " [ 0. 50.  0.  0.]]\n"
          ]
        }
      ]
    },
    {
      "cell_type": "markdown",
      "source": [
        " O<D"
      ],
      "metadata": {
        "id": "4hJDlk_d6AUh"
      }
    },
    {
      "cell_type": "code",
      "source": [
        "# Variables de decisión\n",
        "x = cvx.Variable((4,4), nonneg = True)\n",
        "\n",
        "# Función objetivo:\n",
        "\n",
        "c = [\n",
        "    [8,3,6,0],\n",
        "    [4,6,3,0],\n",
        "    [4,6,2,0],\n",
        "    [3,1,4,0]\n",
        "]\n",
        "\n",
        "Z = cvx.Minimize(cvx.sum(cvx.multiply(c,x)))\n",
        "\n",
        "# Restricciones\n",
        "\n",
        "r = [\n",
        "    # oferta\n",
        "    cvx.sum(x[0,:]) <= 50,\n",
        "    cvx.sum(x[1,:]) <= 60,\n",
        "    cvx.sum(x[2,:]) <= 50,\n",
        "    cvx.sum(x[3,:]) <= 40,\n",
        "\n",
        "     # demanda\n",
        "    cvx.sum(x[:,0]) >= 30,\n",
        "    cvx.sum(x[:,1]) >= 70,\n",
        "    cvx.sum(x[:,2]) >= 90,\n",
        "    cvx.sum(x[:,3]) >= 10,\n",
        "\n",
        "]\n",
        "\n",
        "# Configurar el problema\n",
        "P = cvx.Problem(Z,r)\n",
        "\n",
        "# Solucionar\n",
        "P.solve()\n",
        "\n",
        "print(P.status)\n",
        "print(P.value)\n",
        "print(np.round(x.value,0))"
      ],
      "metadata": {
        "colab": {
          "base_uri": "https://localhost:8080/"
        },
        "id": "6YAMYX9e6Lcu",
        "outputId": "41b7233e-d836-4c4a-df0c-030147fdb289"
      },
      "execution_count": null,
      "outputs": [
        {
          "output_type": "stream",
          "name": "stdout",
          "text": [
            "optimal\n",
            "519.9999999969762\n",
            "[[ 0. 34. 16.  0.]\n",
            " [30. 11.  9. 10.]\n",
            " [ 0.  0. 50.  0.]\n",
            " [ 0. 26. 14.  0.]]\n"
          ]
        }
      ]
    },
    {
      "cell_type": "markdown",
      "source": [
        "O>D y se debe repartir todo"
      ],
      "metadata": {
        "id": "zAQSUghd7LDm"
      }
    },
    {
      "cell_type": "code",
      "source": [
        "# Variables de decisión\n",
        "x = cvx.Variable((3,4), nonneg = True)\n",
        "\n",
        "# Función objetivo:\n",
        "\n",
        "c = [\n",
        "    [5,3,6],\n",
        "    [5,6,1],\n",
        "    [7,6,2],\n",
        "    [1,1,4]\n",
        "]\n",
        "\n",
        "Z = cvx.Minimize(cvx.sum(cvx.multiply(c,x)))\n",
        "\n",
        "# Restricciones\n",
        "\n",
        "r = [\n",
        "    # oferta\n",
        "    cvx.sum(x[0,:]) <= 50,\n",
        "    cvx.sum(x[1,:]) <= 60,\n",
        "    cvx.sum(x[2,:]) <= 50,\n",
        "\n",
        "     # demanda\n",
        "    cvx.sum(x[:,0]) >= 30,\n",
        "    cvx.sum(x[:,1]) >= 70,\n",
        "    cvx.sum(x[:,2]) >= 0,\n",
        "    cvx.sum(x[:,3]) >= 10,\n",
        "\n",
        "    cvx.sum(x[0,:]) >= 50,\n",
        "    cvx.sum(x[1,:]) >= 60,\n",
        "    cvx.sum(x[2,:]) >= 50,\n",
        "]\n",
        "\n",
        "# Configurar el problema\n",
        "P = cvx.Problem(Z,r)\n",
        "\n",
        "# Solucionar\n",
        "P.solve()\n",
        "\n",
        "print(P.status)\n",
        "print(P.value)\n",
        "print(np.round(x.value,5))"
      ],
      "metadata": {
        "colab": {
          "base_uri": "https://localhost:8080/"
        },
        "id": "p_MqcHpB7SGN",
        "outputId": "4c0a70cc-460b-4889-a849-24fc9f757796"
      },
      "execution_count": null,
      "outputs": [
        {
          "output_type": "stream",
          "name": "stdout",
          "text": [
            "optimal\n",
            "300.00000002239943\n",
            "[[ 0. 20.  0. 30.]\n",
            " [30.  0.  0. 30.]\n",
            " [ 0. 50.  0.  0.]]\n"
          ]
        }
      ]
    },
    {
      "cell_type": "markdown",
      "source": [
        "#Cervezas"
      ],
      "metadata": {
        "id": "gwa5kOrs8YqV"
      }
    },
    {
      "cell_type": "markdown",
      "source": [
        "O=D"
      ],
      "metadata": {
        "id": "9QHw94BVUOsD"
      }
    },
    {
      "cell_type": "code",
      "source": [
        "# Variables de decisión\n",
        "x = cvx.Variable((4,4), nonneg = True)\n",
        "\n",
        "# Función objetivo:\n",
        "\n",
        "c = [\n",
        "    [2,5,6,5],\n",
        "    [5,5,1,1],\n",
        "    [2,7,2,6],\n",
        "    [3,1,4,2]\n",
        "]\n",
        "\n",
        "Z = cvx.Minimize(cvx.sum(cvx.multiply(c,x)))\n",
        "\n",
        "# Restricciones\n",
        "\n",
        "r = [\n",
        "    # oferta\n",
        "    cvx.sum(x[0,:]) <= 80,\n",
        "    cvx.sum(x[1,:]) <= 30,\n",
        "    cvx.sum(x[2,:]) <= 60,\n",
        "    cvx.sum(x[3,:]) <= 45,\n",
        "\n",
        "\n",
        "     # demanda\n",
        "    cvx.sum(x[:,0]) >= 70,\n",
        "    cvx.sum(x[:,1]) >= 40,\n",
        "    cvx.sum(x[:,2]) >= 70,\n",
        "    cvx.sum(x[:,3]) >= 35,\n",
        "\n",
        "]\n",
        "\n",
        "# Configurar el problema\n",
        "P = cvx.Problem(Z,r)\n",
        "\n",
        "# Solucionar\n",
        "P.solve()\n",
        "\n",
        "print(P.status)\n",
        "print(P.value)\n",
        "print(np.round(x.value,0))"
      ],
      "metadata": {
        "colab": {
          "base_uri": "https://localhost:8080/"
        },
        "id": "IRCBFdao8YFl",
        "outputId": "e92fe5f1-59a9-4c53-dffa-4985159088d1"
      },
      "execution_count": null,
      "outputs": [
        {
          "output_type": "stream",
          "name": "stdout",
          "text": [
            "optimal\n",
            "360.00000001624426\n",
            "[[70.  0. 10.  0.]\n",
            " [ 0.  0.  0. 30.]\n",
            " [ 0.  0. 60.  0.]\n",
            " [ 0. 40.  0.  5.]]\n"
          ]
        }
      ]
    },
    {
      "cell_type": "markdown",
      "source": [
        "Variación + restricción"
      ],
      "metadata": {
        "id": "NhnM363R9nEN"
      }
    },
    {
      "cell_type": "code",
      "source": [
        "# Variables de decisión\n",
        "x = cvx.Variable((4,4), nonneg = True)\n",
        "\n",
        "# Función objetivo:\n",
        "\n",
        "c = [\n",
        "    [5,3,6,4],\n",
        "    [2,6,1,3],\n",
        "    [7,6,2,6],\n",
        "    [3,1,4,6]\n",
        "]\n",
        "\n",
        "Z = cvx.Minimize(cvx.sum(cvx.multiply(c,x)))\n",
        "\n",
        "# Restricciones\n",
        "\n",
        "r = [\n",
        "    # oferta\n",
        "    cvx.sum(x[0,:]) <= 80,\n",
        "    cvx.sum(x[1,:]) <= 30,\n",
        "    cvx.sum(x[2,:]) <= 60,\n",
        "    cvx.sum(x[3,:]) <= 45,\n",
        "\n",
        "\n",
        "     # demanda\n",
        "    cvx.sum(x[:,0]) >= 70,\n",
        "    cvx.sum(x[:,1]) >= 40,\n",
        "    cvx.sum(x[:,2]) >= 70,\n",
        "    cvx.sum(x[:,3]) >= 35,\n",
        "\n",
        "    # restricciones de los arcos\n",
        "    x[0,1] <= 25,\n",
        "]\n",
        "\n",
        "# Configurar el problema\n",
        "P = cvx.Problem(Z,r)\n",
        "\n",
        "# Solucionar\n",
        "P.solve()\n",
        "\n",
        "print(P.status)\n",
        "print(P.value)\n",
        "print(np.round(x.value,0))"
      ],
      "metadata": {
        "colab": {
          "base_uri": "https://localhost:8080/"
        },
        "id": "9H2_wMS-9rGH",
        "outputId": "1fdfdb93-169c-4a41-b286-6a9cc0819852"
      },
      "execution_count": null,
      "outputs": [
        {
          "output_type": "stream",
          "name": "stdout",
          "text": [
            "optimal\n",
            "650.000000015143\n",
            "[[27. 25.  6. 22.]\n",
            " [17.  0.  0. 13.]\n",
            " [ 0.  0. 60.  0.]\n",
            " [26. 15.  4.  0.]]\n"
          ]
        }
      ]
    },
    {
      "cell_type": "markdown",
      "source": [
        "#Autos"
      ],
      "metadata": {
        "id": "PjQybcFz-5xt"
      }
    },
    {
      "cell_type": "code",
      "source": [
        "# Variables de decisión\n",
        "x = cvx.Variable((3,2), nonneg = True)\n",
        "\n",
        "# Función objetivo:\n",
        "a = 82\n",
        "b = 50\n",
        "\n",
        "c = [\n",
        "    [a,100,102],\n",
        "    [215,108,b]\n",
        "]\n",
        "\n",
        "Z = cvx.Minimize(cvx.sum(cvx.multiply(c,x)))\n",
        "\n",
        "# Restricciones\n",
        "\n",
        "r = [\n",
        "    # oferta\n",
        "    cvx.sum(x[0,:]) <= 1000,\n",
        "    cvx.sum(x[1,:]) <= 1500,\n",
        "    cvx.sum(x[2,:]) <= 1200,\n",
        "\n",
        "     # demanda\n",
        "    cvx.sum(x[:,0]) >= 2300,\n",
        "    cvx.sum(x[:,1]) >= 1400,\n",
        "\n",
        "]\n",
        "\n",
        "# Configurar el problema\n",
        "P = cvx.Problem(Z,r)\n",
        "\n",
        "# Solucionar\n",
        "P.solve()\n",
        "\n",
        "print(P.status)\n",
        "print(P.value)\n",
        "print(np.round(x.value,0))"
      ],
      "metadata": {
        "colab": {
          "base_uri": "https://localhost:8080/"
        },
        "id": "o4M17uVT-8OQ",
        "outputId": "4b503946-1707-4756-c230-9e76d8a2d9f6"
      },
      "execution_count": null,
      "outputs": [
        {
          "output_type": "stream",
          "name": "stdout",
          "text": [
            "optimal\n",
            "293599.9999985016\n",
            "[[1000.    0.]\n",
            " [1300.  200.]\n",
            " [   0. 1200.]]\n"
          ]
        }
      ]
    }
  ]
}