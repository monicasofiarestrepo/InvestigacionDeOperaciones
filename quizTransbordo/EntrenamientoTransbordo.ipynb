{
  "cells": [
    {
      "cell_type": "code",
      "execution_count": 2,
      "metadata": {
        "id": "BpbmLj2g8gon"
      },
      "outputs": [],
      "source": [
        "import cvxpy as cvx\n",
        "import numpy as np"
      ]
    },
    {
      "cell_type": "markdown",
      "metadata": {
        "id": "Db_HBuJV8goq"
      },
      "source": [
        "# Servidores de correo electrónico"
      ]
    },
    {
      "cell_type": "markdown",
      "metadata": {
        "id": "W4kWGi4P8gos"
      },
      "source": [
        "<img src=\"https://github.com/monicasofiarestrepo/InvestigacionDeOperaciones/blob/main/quizTransbordo/IO1.png?raw=1\">"
      ]
    },
    {
      "cell_type": "markdown",
      "metadata": {
        "id": "HnfO2Egn8got"
      },
      "source": [
        "Matriz:\n",
        "\n",
        "| De/Hacia| O1 | O2  | T1 | T2 | D1 | D2 | D3 |\n",
        "| :-: | :-: | :-:  | :-: | :-: | :-: | :-: | :-: |\n",
        "| O1 | 9999 | 9999 | 3 | 4 | 9999 | 9999 | 9999 |\n",
        "| O2 | 9999 | 9999 | 2 | 5 | 9999 | 9999 | 9999 |\n",
        "| T1 | 9999| 9999| 9999 | 7 | 8 | 6 | 9999 |\n",
        "| T2 | 9999 | 9999|  9999 | 9999 | 9999 | 4 | 9 |\n",
        "| D1 | 9999 | 9999 | 9999 | 9999 | 9999 | 5 | 9999 |\n",
        "| D2 | 9999 | 9999 | 9999 | 9999 | 9999 | 9999 | 3 |\n",
        "| D3 | 9999 | 9999 | 9999 | 9999 | 9999 | 9999 | 9999 |\n"
      ]
    },
    {
      "cell_type": "code",
      "execution_count": 10,
      "metadata": {
        "id": "1wmrT4Y_8gou",
        "outputId": "827b9da2-26bc-4725-ad86-d010fc7895a1",
        "colab": {
          "base_uri": "https://localhost:8080/"
        }
      },
      "outputs": [
        {
          "output_type": "stream",
          "name": "stdout",
          "text": [
            "optimal\n",
            "17900.0\n",
            "[[   0.    0.  800.  200.    0.    0.    0.]\n",
            " [   0.    0.    0. 1200.    0.    0.    0.]\n",
            " [   0.    0.    0.    0.  800.    0.    0.]\n",
            " [   0.    0.    0.    0.    0. 1400.    0.]\n",
            " [   0.    0.    0.    0.    0.    0.    0.]\n",
            " [   0.    0.    0.    0.    0.    0.  500.]\n",
            " [   0.    0.    0.    0.    0.    0.    0.]]\n"
          ]
        }
      ],
      "source": [
        "# Variables de decisión\n",
        "x = cvx.Variable((7,7), nonneg=True)\n",
        "\n",
        "# Función objetivo\n",
        "c = [\n",
        "    [999999,999999,999999,999999,999999,999999,999999],\n",
        "    [999999,999999,999999,999999,999999,999999,999999],\n",
        "    [3     ,2     ,999999,999999,999999,999999,999999],\n",
        "    [4     ,1     ,7     ,999999,999999,999999,999999],\n",
        "    [999999,999999,8     ,999999,999999,999999,999999],\n",
        "    [999999,999999,6     ,4     ,5     ,999999,999999],\n",
        "    [999999,999999,999999,9     ,999999,3     ,999999],\n",
        "]\n",
        "\n",
        "Z = cvx.Minimize(cvx.sum(cvx.multiply(c,x)))\n",
        "\n",
        "# Restricciones\n",
        "r = [\n",
        "    # de oferta O1 y O2\n",
        "    cvx.sum(x[0,:]) <= 1000,\n",
        "    cvx.sum(x[1,:]) <= 1200,\n",
        "\n",
        "\n",
        "    # de demanda D3\n",
        "    cvx.sum(x[:,6]) >= 500,\n",
        "\n",
        "\n",
        "    # de transbordo T1, T2, D1 y D2\n",
        "    cvx.sum(x[:,2]) - cvx.sum(x[2,:]) >= 0,\n",
        "    cvx.sum(x[:,3]) - cvx.sum(x[3,:]) >= 0,\n",
        "    cvx.sum(x[:,4]) - cvx.sum(x[4,:]) >= 800,\n",
        "    cvx.sum(x[:,5]) - cvx.sum(x[5,:]) >= 900,\n",
        "  ]\n",
        "\n",
        "P = cvx.Problem(Z,r)\n",
        "P.solve()\n",
        "\n",
        "# impresiones\n",
        "print(P.status)\n",
        "print(np.round(P.value,0))\n",
        "print(np.round(x.value,0))"
      ]
    },
    {
      "cell_type": "markdown",
      "metadata": {
        "id": "NbgiNH4y8gow"
      },
      "source": [
        "# Barriles de fuel oil"
      ]
    },
    {
      "cell_type": "markdown",
      "metadata": {
        "id": "sVAsS_q-8gox"
      },
      "source": [
        "<img src=\"https://github.com/monicasofiarestrepo/InvestigacionDeOperaciones/blob/main/quizTransbordo/IO2.png?raw=1\">"
      ]
    },
    {
      "cell_type": "markdown",
      "source": [
        "| De/Hacia| Ref.1 | Ref.2  | cc.1 | cc.2 | Bari | Porto | Vita | Siena |\n",
        "| :-: | :-: | :-:  | :-: | :-: | :-: | :-: | :-: | :-: |\n",
        "| Ref.1 | 9999 | 9999 | 59 | 38 | 9999 | 9999 | 9999 | 9999 |\n",
        "| Ref.2 | 9999 | 9999 | 17 | 10 | 9999 | 9999 | 9999 | 9999 |\n",
        "| cc.1 | 9999| 9999| 9999 | 9999 | 15 | 68 | 70 | 70 |\n",
        "| cc.2 | 9999 | 9999|  9999 | 9999 | 61 | 47 | 12 | 52 |\n",
        "| Bari | 9999 | 9999 | 9999 | 9999 | 9999 | 9999 | 9999 | 9999 |\n",
        "| Porto | 9999 | 9999 | 9999 | 9999 | 9999 | 9999 | 9999 | 9999 |\n",
        "| Vita | 9999 | 9999 | 9999 | 9999 | 9999 | 9999 | 9999 | 9999 |\n",
        "| Siena | 9999 | 9999 | 9999 | 9999 | 9999 | 9999 | 9999 | 9999 |"
      ],
      "metadata": {
        "id": "gFUa3g2p_zy5"
      }
    },
    {
      "cell_type": "code",
      "execution_count": 8,
      "metadata": {
        "id": "DvaQ8YEg8goz",
        "outputId": "90fca2c0-4465-48ee-860b-079d3493a0a9",
        "colab": {
          "base_uri": "https://localhost:8080/"
        }
      },
      "outputs": [
        {
          "output_type": "stream",
          "name": "stdout",
          "text": [
            "optimal\n",
            "77450.0\n",
            "[[  0.   0. 150. 450.   0.   0.   0.   0.]\n",
            " [  0.   0. 400.   0.   0.   0.   0.   0.]\n",
            " [  0.   0.   0.   0. 200.   0. 350.   0.]\n",
            " [  0.   0.   0.   0.   0. 150.   0. 300.]\n",
            " [  0.   0.   0.   0.   0.   0.   0.   0.]\n",
            " [  0.   0.   0.   0.   0.   0.   0.   0.]\n",
            " [  0.   0.   0.   0.   0.   0.   0.   0.]\n",
            " [  0.   0.   0.   0.   0.   0.   0.   0.]]\n"
          ]
        }
      ],
      "source": [
        "# Variables de decisión\n",
        "x = cvx.Variable((8,8), nonneg=True)\n",
        "\n",
        "# Función objetivo\n",
        "a = 27\n",
        "b = 25\n",
        "c = 51\n",
        "d = 69\n",
        "e = 22\n",
        "f = 39\n",
        "g = 66\n",
        "h = 43\n",
        "i = 52\n",
        "k = 11\n",
        "m = 70\n",
        "n = 42\n",
        "\n",
        "c = [\n",
        "    [999999,999999,999999,999999,999999,999999,999999,999999],\n",
        "    [999999,999999,999999,999999,999999,999999,999999,999999],\n",
        "    [a     ,c     ,999999,999999,999999,999999,999999,999999],\n",
        "    [b     ,d    ,999999,999999,999999,999999,999999,999999],\n",
        "    [999999,999999,e    ,i     ,999999,999999,999999,999999],\n",
        "    [999999,999999,f    ,k     ,999999,999999,999999,999999],\n",
        "    [999999,999999,g    ,m     ,999999,999999,999999,999999],\n",
        "    [999999,999999,h    ,n     ,999999,999999,999999,999999],\n",
        "]\n",
        "\n",
        "\n",
        "Z = cvx.Minimize(cvx.sum(cvx.multiply(c,x)))\n",
        "\n",
        "# Restricciones\n",
        "r = [\n",
        "    # de oferta\n",
        "    cvx.sum(x[0,:]) <= 600,\n",
        "    cvx.sum(x[1,:]) <= 400,\n",
        "\n",
        "    # de demanda\n",
        "    cvx.sum(x[:,4]) >= 200,\n",
        "    cvx.sum(x[:,5]) >= 150,\n",
        "    cvx.sum(x[:,6]) >= 350,\n",
        "    cvx.sum(x[:,7]) >= 300,\n",
        "\n",
        "    # de transbordo\n",
        "    cvx.sum(x[:,2]) - cvx.sum(x[2,:]) >= 0,\n",
        "    cvx.sum(x[:,3]) - cvx.sum(x[3,:]) >= 0,\n",
        "\n",
        "  ]\n",
        "\n",
        "P = cvx.Problem(Z,r)\n",
        "P.solve()\n",
        "\n",
        "# impresiones\n",
        "print(P.status)\n",
        "print(np.round(P.value,0))\n",
        "print(np.round(x.value,0))"
      ]
    },
    {
      "cell_type": "markdown",
      "metadata": {
        "id": "dzCtkD6V8go0"
      },
      "source": [
        "# Galones de combustible"
      ]
    },
    {
      "cell_type": "markdown",
      "metadata": {
        "id": "MyirbDxk8go1"
      },
      "source": [
        "<img src=\"https://github.com/monicasofiarestrepo/InvestigacionDeOperaciones/blob/main/quizTransbordo/IO3.png?raw=1\">"
      ]
    },
    {
      "cell_type": "markdown",
      "metadata": {
        "id": "vrmjgaMs8go1"
      },
      "source": [
        "| De/Hacia| 1 | 2  | 3 | 4 | 5 | 6 | 7 |\n",
        "| :-: | :-: | :-:  | :-: | :-: | :-: | :-: | :-: |\n",
        "| 1 | 9999 | 9999 | 3 | 9999 | 9999 | 9999 | 20 |\n",
        "| 2 | 9999 | 9999 | 9 | 9999 | 9999 | 30 | 9999 |\n",
        "| 3 | 9999 | 9999| 9999 | 9999 | 10 | 9999 | 40 |\n",
        "| 4 | 9999 | 9999|  9999 | 9999 | 4 | 9999 | 8 |\n",
        "| 5 | 9999 | 9999 | 10 | 4 | 9999 | 2 | 9999 |\n",
        "| 6 | 9999 | 9999 | 9999 | 9999 | 9999 | 9999 | 9999 |\n",
        "| 7 | 9999 | 9999 | 9999 | 9999 | 9999 | 9999 | 9999 |\n"
      ]
    },
    {
      "cell_type": "code",
      "execution_count": 9,
      "metadata": {
        "id": "1rqxqyBL8go2",
        "outputId": "99a31d8c-4c21-4908-e76e-04976f8ffca5",
        "colab": {
          "base_uri": "https://localhost:8080/"
        }
      },
      "outputs": [
        {
          "output_type": "stream",
          "name": "stdout",
          "text": [
            "optimal\n",
            "338000.0\n",
            "[[   0.    0.    0.    0.    0.    0. 5000.]\n",
            " [   0.    0. 6000.    0.    0.    0.    0.]\n",
            " [   0.    0.    0.    0. 2000.    0. 4000.]\n",
            " [   0.    0.    0.    0.    0.    0.    0.]\n",
            " [   0.    0.    0.    0.    0. 2000.    0.]\n",
            " [   0.    0.    0.    0.    0.    0.    0.]\n",
            " [   0.    0.    0.    0.    0.    0.    0.]]\n"
          ]
        }
      ],
      "source": [
        "# Variables de decisión\n",
        "x = cvx.Variable((7,7), nonneg=True)\n",
        "\n",
        "# Función objetivo\n",
        "a = 30\n",
        "c = [\n",
        "    [999999,999999,999999,999999,999999,999999,999999],\n",
        "    [999999,999999,999999,999999,999999,999999,999999],\n",
        "    [3     ,9     ,999999,999999,10    ,999999,999999],\n",
        "    [999999,999999,999999,999999,a     ,999999,999999],\n",
        "    [999999,999999,10     ,a    ,999999,999999,999999],\n",
        "    [999999,30    ,999999,999999,2     ,999999,999999],\n",
        "    [20    ,999999,40    ,8     ,999999,999999,999999],\n",
        "]\n",
        "\n",
        "Z = cvx.Minimize(cvx.sum(cvx.multiply(c,x)))\n",
        "\n",
        "# Restricciones\n",
        "r = [\n",
        "    # de oferta\n",
        "    cvx.sum(x[0,:]) <= 5000,\n",
        "    cvx.sum(x[1,:]) <= 6000,\n",
        "\n",
        "    # de demanda\n",
        "    cvx.sum(x[:,5]) >= 2000,\n",
        "    cvx.sum(x[:,6]) >= 9000,\n",
        "\n",
        "    # de transbordo\n",
        "    cvx.sum(x[:,2]) - cvx.sum(x[2,:]) >= 0,\n",
        "    cvx.sum(x[:,3]) - cvx.sum(x[3,:]) >= 0,\n",
        "    cvx.sum(x[:,4]) - cvx.sum(x[4,:]) >= 0,\n",
        "  ]\n",
        "\n",
        "P = cvx.Problem(Z,r)\n",
        "P.solve()\n",
        "\n",
        "# impresiones\n",
        "print(P.status)\n",
        "print(np.round(P.value,0))\n",
        "print(np.round(x.value,0))"
      ]
    },
    {
      "cell_type": "markdown",
      "metadata": {
        "id": "o2TZxB-v8go3"
      },
      "source": [
        "# Red de transporte Minas"
      ]
    },
    {
      "cell_type": "markdown",
      "metadata": {
        "id": "9pMK5H1D8go3"
      },
      "source": [
        "<img src=\"https://github.com/monicasofiarestrepo/InvestigacionDeOperaciones/blob/main/quizTransbordo/IO4.png?raw=1\">"
      ]
    },
    {
      "cell_type": "markdown",
      "metadata": {
        "id": "EE5syN1c8go4"
      },
      "source": [
        "| De/Hacia| M1 | M2  | cc1 | cc2 | D1 | D2 | D3 |\n",
        "| :-: | :-: | :-:  | :-: | :-: | :-: | :-: | :-: |\n",
        "| M1 | 9999 | 9999 | 14 | 9 | 9999 | 9999 | 9999 |\n",
        "| M2 | 9999 | 9999 | 3 | 2 | 9999 | 9999 | 9999 |\n",
        "| cc1 | 9999 | 9999 | 9999 | 0 | 3 | 14 | 9999 |\n",
        "| cc2 | 9999 | 9999|  9999 | 9999 | 9999 | 11 | 2 |\n",
        "| D1 | 9999 | 9999 | 9999 | 9999 | 9999 | 12 | 9999 |\n",
        "| D2 | 9999 | 9999 | 9999 | 9999 | 9999 | 9999 | 13 |\n",
        "| D3 | 9999 | 9999 | 9999 | 9999 | 9999 | 9999 | 9999 |"
      ]
    },
    {
      "cell_type": "code",
      "execution_count": 6,
      "metadata": {
        "id": "n7BhXjjx8go4",
        "outputId": "e0f6c36d-80ea-4562-e90d-27f1dadd17ab",
        "colab": {
          "base_uri": "https://localhost:8080/"
        }
      },
      "outputs": [
        {
          "output_type": "stream",
          "name": "stdout",
          "text": [
            "optimal\n",
            "27700.0\n",
            "[[   0.    0. 1000.    0.    0.    0.    0.]\n",
            " [   0.    0. 1200.    0.    0.    0.    0.]\n",
            " [   0.    0.    0.    0.  800. 1400.    0.]\n",
            " [   0.    0.    0.    0.    0.    0.    0.]\n",
            " [   0.    0.    0.    0.    0.    0.    0.]\n",
            " [   0.    0.    0.    0.    0.    0.  500.]\n",
            " [   0.    0.    0.    0.    0.    0.    0.]]\n"
          ]
        }
      ],
      "source": [
        "# Variables de decisión\n",
        "x = cvx.Variable((7,7), nonneg=True)\n",
        "\n",
        "# Función objetivo\n",
        "a = 11\n",
        "b = 12\n",
        "c = 3\n",
        "d = 10\n",
        "e = 11\n",
        "f = 2\n",
        "g = 0\n",
        "h = 6\n",
        "i = 15\n",
        "k = 10\n",
        "m = 3\n",
        "\n",
        "c = [\n",
        "    [999999,999999,999999,999999,999999,999999,999999],\n",
        "    [999999,999999,999999,999999,999999,999999,999999],\n",
        "    [a    ,c     ,999999,999999,999999,999999,999999],\n",
        "    [b     ,d     ,g     ,999999,999999,999999,999999],\n",
        "    [999999,999999,e     ,999999,999999,999999,999999],\n",
        "    [999999,999999,f    ,h    ,k     ,999999,999999],\n",
        "    [999999,999999,999999,i     ,999999,m    ,999999],\n",
        "]\n",
        "\n",
        "\n",
        "Z = cvx.Minimize(cvx.sum(cvx.multiply(c,x)))\n",
        "\n",
        "# Restricciones\n",
        "r = [\n",
        "    # de oferta\n",
        "    cvx.sum(x[0,:]) <= 1000,\n",
        "    cvx.sum(x[1,:]) <= 1200,\n",
        "\n",
        "    # de demanda\n",
        "    cvx.sum(x[:,6]) >= 500,\n",
        "\n",
        "    # de transbordo\n",
        "    cvx.sum(x[:,2]) - cvx.sum(x[2,:]) >= 0,\n",
        "    cvx.sum(x[:,3]) - cvx.sum(x[3,:]) >= 0,\n",
        "    cvx.sum(x[:,4]) - cvx.sum(x[4,:]) >= 800,\n",
        "    cvx.sum(x[:,5]) - cvx.sum(x[5,:]) >= 900,\n",
        "  ]\n",
        "\n",
        "P = cvx.Problem(Z,r)\n",
        "P.solve()\n",
        "\n",
        "# impresiones\n",
        "print(P.status)\n",
        "print(np.round(P.value,0))\n",
        "print(np.round(x.value,0))"
      ]
    }
  ],
  "metadata": {
    "kernelspec": {
      "display_name": "Python 3",
      "language": "python",
      "name": "python3"
    },
    "language_info": {
      "codemirror_mode": {
        "name": "ipython",
        "version": 3
      },
      "file_extension": ".py",
      "mimetype": "text/x-python",
      "name": "python",
      "nbconvert_exporter": "python",
      "pygments_lexer": "ipython3",
      "version": "3.10.6"
    },
    "orig_nbformat": 4,
    "colab": {
      "provenance": []
    }
  },
  "nbformat": 4,
  "nbformat_minor": 0
}