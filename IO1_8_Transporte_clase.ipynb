{
  "nbformat": 4,
  "nbformat_minor": 0,
  "metadata": {
    "colab": {
      "provenance": [],
      "include_colab_link": true
    },
    "kernelspec": {
      "name": "python3",
      "display_name": "Python 3"
    },
    "language_info": {
      "name": "python"
    }
  },
  "cells": [
    {
      "cell_type": "markdown",
      "metadata": {
        "id": "view-in-github",
        "colab_type": "text"
      },
      "source": [
        "<a href=\"https://colab.research.google.com/github/monicasofiarestrepo/InvestigacionDeOperaciones/blob/main/IO1_8_Transporte_clase.ipynb\" target=\"_parent\"><img src=\"https://colab.research.google.com/assets/colab-badge.svg\" alt=\"Open In Colab\"/></a>"
      ]
    },
    {
      "cell_type": "code",
      "execution_count": null,
      "metadata": {
        "id": "UFBoy2GCb5PK"
      },
      "outputs": [],
      "source": [
        "import cvxpy as cvx\n",
        "import numpy as np"
      ]
    },
    {
      "cell_type": "code",
      "source": [
        "# Variables de decisión\n",
        "x = cvx.Variable((3,4), nonneg = True)\n",
        "\n",
        "# Función objetivo:\n",
        "\n",
        "c = [\n",
        "    [464,352,995],\n",
        "    [513,416,682],\n",
        "    [654,690,388],\n",
        "    [867,791,685]\n",
        "]\n",
        "\n",
        "Z = cvx.Minimize(cvx.sum(cvx.multiply(c,x)))\n",
        "\n",
        "# Restricciones\n",
        "\n",
        "r = [\n",
        "    # oferta\n",
        "    cvx.sum(x[0,:]) <= 75,\n",
        "    cvx.sum(x[1,:]) <= 125,\n",
        "    cvx.sum(x[2,:]) <= 100,\n",
        "     \n",
        "     # demanda\n",
        "    cvx.sum(x[:,0]) >= 80,\n",
        "    cvx.sum(x[:,1]) >= 65,\n",
        "    cvx.sum(x[:,2]) >= 70,\n",
        "    cvx.sum(x[:,3]) >= 85,\n",
        "          \n",
        "]\n",
        "\n",
        "# Configurar el problema\n",
        "P = cvx.Problem(Z,r)\n",
        "\n",
        "# Solucionar\n",
        "P.solve()\n",
        "\n",
        "print(P.status)\n",
        "print(P.value)\n",
        "print(np.round(x.value,0))"
      ],
      "metadata": {
        "colab": {
          "base_uri": "https://localhost:8080/"
        },
        "id": "nOqTvODYcAwM",
        "outputId": "f9fbe6fe-0377-459c-f1f9-efd62b837bdc"
      },
      "execution_count": null,
      "outputs": [
        {
          "output_type": "stream",
          "name": "stdout",
          "text": [
            "optimal\n",
            "152535.00004022144\n",
            "[[ 0. 20.  0. 55.]\n",
            " [80. 45.  0.  0.]\n",
            " [ 0.  0. 70. 30.]]\n"
          ]
        }
      ]
    },
    {
      "cell_type": "code",
      "source": [
        "# Verificación del equilibrio: O == D\n",
        "Toda la oferta del sistema : 300 (75+125+100)\n",
        "Toda la demanda del sistema : 300 (80+65+70+85)\n",
        "\n"
      ],
      "metadata": {
        "id": "Ebm0ygUDisjd"
      },
      "execution_count": null,
      "outputs": []
    },
    {
      "cell_type": "code",
      "source": [
        "# Caso 2: Desequilibrio O > D\n",
        "\n",
        "# Variables de decisión\n",
        "x = cvx.Variable((3,4), nonneg = True)\n",
        "\n",
        "# Función objetivo:\n",
        "\n",
        "c = [\n",
        "    [464,352,995],\n",
        "    [513,416,682],\n",
        "    [654,690,388],\n",
        "    [867,791,685]\n",
        "]\n",
        "\n",
        "Z = cvx.Minimize(cvx.sum(cvx.multiply(c,x)))\n",
        "\n",
        "# Restricciones\n",
        "\n",
        "r = [\n",
        "    # oferta\n",
        "    cvx.sum(x[0,:]) <= 175,\n",
        "    cvx.sum(x[1,:]) <= 125,\n",
        "    cvx.sum(x[2,:]) <= 100,\n",
        "     \n",
        "     # demanda\n",
        "    cvx.sum(x[:,0]) >= 80,\n",
        "    cvx.sum(x[:,1]) >= 65,\n",
        "    cvx.sum(x[:,2]) >= 70,\n",
        "    cvx.sum(x[:,3]) >= 85,\n",
        "          \n",
        "]\n",
        "\n",
        "# Configurar el problema\n",
        "P = cvx.Problem(Z,r)\n",
        "\n",
        "# Solucionar\n",
        "P.solve()\n",
        "\n",
        "print(P.status)\n",
        "print(P.value)\n",
        "print(np.round(x.value,0))"
      ],
      "metadata": {
        "colab": {
          "base_uri": "https://localhost:8080/"
        },
        "id": "M17DqnycjYIj",
        "outputId": "fbd5867e-e9cd-451f-cd65-d9a27518866f"
      },
      "execution_count": null,
      "outputs": [
        {
          "output_type": "stream",
          "name": "stdout",
          "text": [
            "optimal\n",
            "152535.00002617802\n",
            "[[ 0. 20.  0. 55.]\n",
            " [80. 45.  0.  0.]\n",
            " [ 0.  0. 70. 30.]]\n"
          ]
        }
      ]
    },
    {
      "cell_type": "code",
      "source": [
        "# Caso 2: Desequilibrio O > D y hay que repartir toda la oferta\n",
        "\n",
        "# Variables de decisión\n",
        "x = cvx.Variable((3,4), nonneg = True)\n",
        "\n",
        "# Función objetivo:\n",
        "\n",
        "c = [\n",
        "    [464,352,995],\n",
        "    [513,416,682],\n",
        "    [654,690,388],\n",
        "    [867,791,685]\n",
        "]\n",
        "\n",
        "Z = cvx.Minimize(cvx.sum(cvx.multiply(c,x)))\n",
        "\n",
        "# Restricciones\n",
        "\n",
        "r = [\n",
        "    # oferta\n",
        "    cvx.sum(x[0,:]) <= 175,\n",
        "    cvx.sum(x[1,:]) <= 125,\n",
        "    cvx.sum(x[2,:]) <= 100,\n",
        "     \n",
        "     # demanda\n",
        "    cvx.sum(x[:,0]) >= 80,\n",
        "    cvx.sum(x[:,1]) >= 65,\n",
        "    cvx.sum(x[:,2]) >= 70,\n",
        "    cvx.sum(x[:,3]) >= 85,\n",
        "     \n",
        "    # repartir todo lo de Buriticá\n",
        "    cvx.sum(x[0,:]) >= 175,\n",
        "]\n",
        "\n",
        "# Configurar el problema\n",
        "P = cvx.Problem(Z,r)\n",
        "\n",
        "# Solucionar\n",
        "P.solve()\n",
        "\n",
        "print(P.status)\n",
        "print(P.value)\n",
        "print(np.round(x.value,0))"
      ],
      "metadata": {
        "colab": {
          "base_uri": "https://localhost:8080/"
        },
        "id": "QUWT8taNkdZ4",
        "outputId": "6eadac12-5f77-4169-d300-e7a00a707a41"
      },
      "execution_count": null,
      "outputs": [
        {
          "output_type": "stream",
          "name": "stdout",
          "text": [
            "optimal\n",
            "163060.00011393637\n",
            "[[55. 65.  0. 55.]\n",
            " [25.  0.  0.  0.]\n",
            " [ 0.  0. 70. 30.]]\n"
          ]
        }
      ]
    },
    {
      "cell_type": "code",
      "source": [
        "# Desequilibrio O < D\n",
        "\n",
        "# Variables de decisión\n",
        "x = cvx.Variable((4,4), nonneg = True)\n",
        "\n",
        "# Función objetivo:\n",
        "\n",
        "c = [\n",
        "    [464,352,995,0],\n",
        "    [513,416,682,0],\n",
        "    [654,690,388,0],\n",
        "    [867,791,685,0]\n",
        "]\n",
        "\n",
        "Z = cvx.Minimize(cvx.sum(cvx.multiply(c,x)))\n",
        "\n",
        "# Restricciones\n",
        "\n",
        "r = [\n",
        "    # oferta\n",
        "    cvx.sum(x[0,:]) <= 55,\n",
        "    cvx.sum(x[1,:]) <= 125,\n",
        "    cvx.sum(x[2,:]) <= 100,\n",
        "    cvx.sum(x[3,:]) <= 20,\n",
        "     \n",
        "     # demanda\n",
        "    cvx.sum(x[:,0]) >= 80,\n",
        "    cvx.sum(x[:,1]) >= 65,\n",
        "    cvx.sum(x[:,2]) >= 70,\n",
        "    cvx.sum(x[:,3]) >= 85,\n",
        "          \n",
        "]\n",
        "\n",
        "# Configurar el problema\n",
        "P = cvx.Problem(Z,r)\n",
        "\n",
        "# Solucionar\n",
        "P.solve()\n",
        "\n",
        "print(P.status)\n",
        "print(P.value)\n",
        "print(np.round(x.value,0))"
      ],
      "metadata": {
        "colab": {
          "base_uri": "https://localhost:8080/"
        },
        "id": "jK7LnQsulQEM",
        "outputId": "28338e58-3ebf-4f1d-ae4a-6d7fdf5665e9"
      },
      "execution_count": null,
      "outputs": [
        {
          "output_type": "stream",
          "name": "stdout",
          "text": [
            "optimal\n",
            "135195.00003374982\n",
            "[[ 0. 20.  0. 35.]\n",
            " [80. 45.  0.  0.]\n",
            " [ 0.  0. 70. 30.]\n",
            " [ 0.  0.  0. 20.]]\n"
          ]
        }
      ]
    },
    {
      "cell_type": "code",
      "source": [
        "# Variables de decisión\n",
        "x = cvx.Variable((3,4), nonneg = True)\n",
        "\n",
        "# Función objetivo:\n",
        "\n",
        "c = [\n",
        "    [464,352,995],\n",
        "    [513,416,682],\n",
        "    [654,690,388],\n",
        "    [867,791,685]\n",
        "]\n",
        "\n",
        "Z = cvx.Minimize(cvx.sum(cvx.multiply(c,x)))\n",
        "\n",
        "# Restricciones\n",
        "\n",
        "r = [\n",
        "    # oferta\n",
        "    cvx.sum(x[0,:]) <= 75,\n",
        "    cvx.sum(x[1,:]) <= 125,\n",
        "    cvx.sum(x[2,:]) <= 100,\n",
        "     \n",
        "     # demanda\n",
        "    cvx.sum(x[:,0]) >= 80,\n",
        "    cvx.sum(x[:,1]) >= 65,\n",
        "    cvx.sum(x[:,2]) >= 70,\n",
        "    cvx.sum(x[:,3]) >= 85,\n",
        "     \n",
        "     # restricciones de los arcos\n",
        "    x[0,3] >= 60,\n",
        "          \n",
        "]\n",
        "\n",
        "# Configurar el problema\n",
        "P = cvx.Problem(Z,r)\n",
        "\n",
        "# Solucionar\n",
        "P.solve()\n",
        "\n",
        "print(P.status)\n",
        "print(P.value)\n",
        "print(np.round(x.value,0))"
      ],
      "metadata": {
        "colab": {
          "base_uri": "https://localhost:8080/"
        },
        "id": "9bEN6l9vnsAT",
        "outputId": "4ab5065e-6d6b-4c07-9ecc-dbb43b2c8f23"
      },
      "execution_count": null,
      "outputs": [
        {
          "output_type": "stream",
          "name": "stdout",
          "text": [
            "optimal\n",
            "154290.00000089023\n",
            "[[ 0. 15.  0. 60.]\n",
            " [80. 45.  0.  0.]\n",
            " [ 0.  5. 70. 25.]]\n"
          ]
        }
      ]
    },
    {
      "cell_type": "code",
      "source": [
        "# Variables de decisión\n",
        "x = cvx.Variable((3,4), nonneg = True)\n",
        "\n",
        "# Función objetivo:\n",
        "\n",
        "c = [\n",
        "    [464,352,995],\n",
        "    [513,416,682],\n",
        "    [654,690,388],\n",
        "    [999999,791,685]\n",
        "]\n",
        "\n",
        "Z = cvx.Minimize(cvx.sum(cvx.multiply(c,x)))\n",
        "\n",
        "# Restricciones\n",
        "\n",
        "r = [\n",
        "    # oferta\n",
        "    cvx.sum(x[0,:]) <= 75,\n",
        "    cvx.sum(x[1,:]) <= 125,\n",
        "    cvx.sum(x[2,:]) <= 100,\n",
        "     \n",
        "     # demanda\n",
        "    cvx.sum(x[:,0]) >= 80,\n",
        "    cvx.sum(x[:,1]) >= 65,\n",
        "    cvx.sum(x[:,2]) >= 70,\n",
        "    cvx.sum(x[:,3]) >= 85,\n",
        "     \n",
        "]\n",
        "\n",
        "# Configurar el problema\n",
        "P = cvx.Problem(Z,r)\n",
        "\n",
        "# Solucionar\n",
        "P.solve()\n",
        "\n",
        "print(P.status)\n",
        "print(P.value)\n",
        "print(np.round(x.value,0))"
      ],
      "metadata": {
        "colab": {
          "base_uri": "https://localhost:8080/"
        },
        "id": "4-7f6T9hol44",
        "outputId": "bef5b4e4-2aaa-45eb-c5ce-a96d55672d14"
      },
      "execution_count": null,
      "outputs": [
        {
          "output_type": "stream",
          "name": "stdout",
          "text": [
            "optimal\n",
            "153840.0002895294\n",
            "[[10. 65.  0.  0.]\n",
            " [70.  0.  0. 55.]\n",
            " [ 0.  0. 70. 30.]]\n"
          ]
        }
      ]
    },
    {
      "cell_type": "code",
      "source": [],
      "metadata": {
        "id": "ZZtvoZqQq-hO"
      },
      "execution_count": null,
      "outputs": []
    },
    {
      "cell_type": "code",
      "source": [],
      "metadata": {
        "id": "BiSxAdyjq-jv"
      },
      "execution_count": null,
      "outputs": []
    },
    {
      "cell_type": "code",
      "source": [],
      "metadata": {
        "id": "wosD5ky6q-me"
      },
      "execution_count": null,
      "outputs": []
    },
    {
      "cell_type": "code",
      "source": [
        "# Variables de decisión\n",
        "x = cvx.Variable((3,4), nonneg = True)\n",
        "\n",
        "# Función objetivo:\n",
        "\n",
        "c = [\n",
        "    [464,352,995],\n",
        "    [513,416,682],\n",
        "    [654,690,388],\n",
        "    [867,791,685]\n",
        "]\n",
        "\n",
        "Z = cvx.Minimize(cvx.sum(cvx.multiply(c,x)))\n",
        "\n",
        "# Restricciones\n",
        "\n",
        "r = [\n",
        "    # oferta\n",
        "    cvx.sum(x[0,:]) <= 175,\n",
        "    cvx.sum(x[1,:]) <= 125,\n",
        "    cvx.sum(x[2,:]) <= 100,\n",
        "     \n",
        "     # demanda\n",
        "    cvx.sum(x[:,0]) >= 80,\n",
        "    cvx.sum(x[:,1]) >= 65,\n",
        "    cvx.sum(x[:,2]) >= 70,\n",
        "    cvx.sum(x[:,3]) >= 85,\n",
        "    \n",
        "    cvx.sum(x[0,:]) >= 175,\n",
        "    #cvx.sum(x) >= 175 + 125 + 100\n",
        "         \n",
        "]\n",
        "\n",
        "# Configurar el problema\n",
        "P = cvx.Problem(Z,r)\n",
        "\n",
        "# Solucionar\n",
        "P.solve()\n",
        "\n",
        "print(P.status)\n",
        "print(P.value)\n",
        "print(np.round(x.value,0))"
      ],
      "metadata": {
        "colab": {
          "base_uri": "https://localhost:8080/"
        },
        "id": "_VkIfajkq-pg",
        "outputId": "7d6bb3a0-eee7-4882-dc63-c92356ebe7e7"
      },
      "execution_count": null,
      "outputs": [
        {
          "output_type": "stream",
          "name": "stdout",
          "text": [
            "optimal\n",
            "198260.00001934275\n",
            "[[ 55.  65.   0.  55.]\n",
            " [125.   0.   0.   0.]\n",
            " [  0.   0.  70.  30.]]\n"
          ]
        }
      ]
    }
  ]
}