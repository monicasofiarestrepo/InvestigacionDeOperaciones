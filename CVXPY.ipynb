{
  "nbformat": 4,
  "nbformat_minor": 0,
  "metadata": {
    "colab": {
      "provenance": [],
      "include_colab_link": true
    },
    "kernelspec": {
      "name": "python3",
      "display_name": "Python 3"
    },
    "language_info": {
      "name": "python"
    }
  },
  "cells": [
    {
      "cell_type": "markdown",
      "metadata": {
        "id": "view-in-github",
        "colab_type": "text"
      },
      "source": [
        "<a href=\"https://colab.research.google.com/github/monicasofiarestrepo/InvestigacionDeOperaciones/blob/main/CVXPY.ipynb\" target=\"_parent\"><img src=\"https://colab.research.google.com/assets/colab-badge.svg\" alt=\"Open In Colab\"/></a>"
      ]
    },
    {
      "cell_type": "markdown",
      "source": [
        "# Importar la librería"
      ],
      "metadata": {
        "id": "K6HN_uBUMuta"
      }
    },
    {
      "cell_type": "code",
      "execution_count": null,
      "metadata": {
        "id": "ia0wIS2VMMtn"
      },
      "outputs": [],
      "source": [
        "import cvxpy as cvx\n",
        "import numpy as np"
      ]
    },
    {
      "cell_type": "markdown",
      "source": [
        "# Formulación algebraica"
      ],
      "metadata": {
        "id": "_clTseBOc1O4"
      }
    },
    {
      "cell_type": "code",
      "source": [
        "# Definición de las variables de decisión\n",
        "x1 = cvx.Variable()\n",
        "x2 = cvx.Variable()\n",
        "x3 = cvx.Variable()\n",
        "\n",
        "# Definición de la función objetivo\n",
        "Z = cvx.Maximize(3*x1 + 2*x2 + 1*x3)\n",
        "\n",
        "# Definición de restricciones (sujeto a)\n",
        "r = [\n",
        "    5*x1 + 2*x2 + 6*x3 <= 90,\n",
        "    2*x1 + 1*x2 + 0.2*x3 <= 50,\n",
        "    1*x1 <= 11,\n",
        "    1*x3 >= 3,\n",
        "    1*x1 >= 0,\n",
        "    1*x2 >= 0,\n",
        "    1*x3 >= 0,\n",
        "]\n",
        "\n",
        "# Configurar el problema en cvxpy\n",
        "P = cvx.Problem(Z,r)\n",
        "\n",
        "# Solucionar el problema\n",
        "P.solve()\n",
        "\n",
        "# impresiones\n",
        "print(\"Estado de la solución = \", P.status)\n",
        "print(\"Z óptimo = \", round(P.value,15))\n",
        "print(\"cajas de cerveza de corozo a producir = \", np.round(x1.value,0))\n",
        "print(\"cajas de cerveza de yuca a producir = \", np.round(x2.value,0))\n",
        "print(\"cajas de cerveza de limón a producir = \", np.round(x3.value,0))\n"
      ],
      "metadata": {
        "colab": {
          "base_uri": "https://localhost:8080/"
        },
        "id": "_3yQYqIvMzYw",
        "outputId": "13f34dda-433d-42da-ca78-7e6f83921e80"
      },
      "execution_count": null,
      "outputs": [
        {
          "output_type": "stream",
          "name": "stdout",
          "text": [
            "Estado de la solución =  optimal\n",
            "Z óptimo =  75.00000000389434\n",
            "cajas de cerveza de corozo a producir =  0.0\n",
            "cajas de cerveza de yuca a producir =  36.0\n",
            "cajas de cerveza de limón a producir =  3.0\n"
          ]
        }
      ]
    },
    {
      "cell_type": "markdown",
      "source": [
        "# Problema de forma matricial"
      ],
      "metadata": {
        "id": "TAuGof_wZ2cr"
      }
    },
    {
      "cell_type": "code",
      "source": [
        "# Definición de las variables de decisión\n",
        "x = cvx.Variable((3,1),nonneg=True)\n",
        "\n",
        "# Definición de la función objetivo\n",
        "c = [3,2,1]\n",
        "Z = cvx.Maximize(c@x)\n",
        "\n",
        "# Definición de las restricciones\n",
        "A = [[5,2,1,0],[2,1,0,0],[6,0.5,0,-1]]\n",
        "b = [[90,50,11,-3]]\n",
        "r = [A@x <= b]\n",
        "\n",
        "# Configurar el problema en cvxpy\n",
        "P = cvx.Problem(Z,r)\n",
        "\n",
        "# Solucionar el problema\n",
        "P.solve(solver=cvx.GUROBI)\n",
        "\n",
        "# impresiones\n",
        "print(\"Estado de la solución = \", P.status)\n",
        "print(\"Z óptimo = \", round(P.value,15))\n",
        "print(\"cajas de cerveza de corozo a producir = \", np.round(x[0].value,0))\n",
        "print(\"cajas de cerveza de yuca a producir = \", np.round(x[1].value,0))\n",
        "print(\"cajas de cerveza de limón a producir = \", np.round(x[2].value,0))\n"
      ],
      "metadata": {
        "colab": {
          "base_uri": "https://localhost:8080/"
        },
        "id": "Okcd483_Z5Xr",
        "outputId": "31c90f67-293e-489f-a91c-f9646c953b3e"
      },
      "execution_count": null,
      "outputs": [
        {
          "output_type": "stream",
          "name": "stdout",
          "text": [
            "Restricted license - for non-production use only - expires 2024-10-28\n",
            "Estado de la solución =  optimal\n",
            "Z óptimo =  75.0\n",
            "cajas de cerveza de corozo a producir =  [0.]\n",
            "cajas de cerveza de yuca a producir =  [36.]\n",
            "cajas de cerveza de limón a producir =  [3.]\n"
          ]
        }
      ]
    },
    {
      "cell_type": "markdown",
      "source": [
        "# Otros solvers"
      ],
      "metadata": {
        "id": "UOcTlXHBjEuF"
      }
    },
    {
      "cell_type": "code",
      "source": [
        "cvx.installed_solvers()"
      ],
      "metadata": {
        "id": "fvCugkkkW7cD"
      },
      "execution_count": null,
      "outputs": []
    },
    {
      "cell_type": "code",
      "source": [
        "!pip install gurobipy\n",
        "import gurobipy"
      ],
      "metadata": {
        "colab": {
          "base_uri": "https://localhost:8080/"
        },
        "id": "YLAuNTeOV4ep",
        "outputId": "544f8ade-0d0d-4bf6-a7a2-51b3dd4f5da5"
      },
      "execution_count": null,
      "outputs": [
        {
          "output_type": "stream",
          "name": "stdout",
          "text": [
            "Looking in indexes: https://pypi.org/simple, https://us-python.pkg.dev/colab-wheels/public/simple/\n",
            "Collecting gurobipy\n",
            "  Downloading gurobipy-10.0.1-cp39-cp39-manylinux2014_x86_64.whl (12.8 MB)\n",
            "\u001b[2K     \u001b[90m━━━━━━━━━━━━━━━━━━━━━━━━━━━━━━━━━━━━━━━━\u001b[0m \u001b[32m12.8/12.8 MB\u001b[0m \u001b[31m58.9 MB/s\u001b[0m eta \u001b[36m0:00:00\u001b[0m\n",
            "\u001b[?25hInstalling collected packages: gurobipy\n",
            "Successfully installed gurobipy-10.0.1\n"
          ]
        }
      ]
    }
  ]
}