{
  "nbformat": 4,
  "nbformat_minor": 0,
  "metadata": {
    "colab": {
      "provenance": [],
      "include_colab_link": true
    },
    "kernelspec": {
      "name": "python3",
      "display_name": "Python 3"
    },
    "language_info": {
      "name": "python"
    }
  },
  "cells": [
    {
      "cell_type": "markdown",
      "metadata": {
        "id": "view-in-github",
        "colab_type": "text"
      },
      "source": [
        "<a href=\"https://colab.research.google.com/github/monicasofiarestrepo/InvestigacionDeOperaciones/blob/main/Asignacion_IO_luis.ipynb\" target=\"_parent\"><img src=\"https://colab.research.google.com/assets/colab-badge.svg\" alt=\"Open In Colab\"/></a>"
      ]
    },
    {
      "cell_type": "code",
      "source": [
        "import cvxpy as cvx\n",
        "import numpy as np"
      ],
      "metadata": {
        "id": "IW17gUYPoiiN"
      },
      "execution_count": 1,
      "outputs": []
    },
    {
      "cell_type": "code",
      "execution_count": null,
      "metadata": {
        "cellView": "form",
        "id": "Ob1R-jCAocTX"
      },
      "outputs": [],
      "source": [
        "#@title Asignación\n",
        "\n",
        "# Variables de decisión\n",
        "x = cvx.Variable((3,3), boolean = True)\n",
        "\n",
        "# Función objetivo\n",
        "c = [\n",
        "    [10,9,6],\n",
        "    [15,18,14],\n",
        "    [9,5,3]\n",
        "    ]\n",
        "\n",
        "Z = cvx.Minimize(cvx.sum(cvx.multiply(c,x)))\n",
        "\n",
        "# Restricciones\n",
        "r = [\n",
        "    # De oferta:\n",
        "     cvx.sum(x[0,:]) <= 1,\n",
        "     cvx.sum(x[1,:]) <= 1,\n",
        "     cvx.sum(x[2,:]) <= 1,\n",
        "\n",
        "    # De demanda:\n",
        "     cvx.sum(x[:,0]) >= 1,\n",
        "     cvx.sum(x[:,1]) >= 1,\n",
        "     cvx.sum(x[:,2]) >= 1,\n",
        "]\n",
        "\n",
        "# Configurar el problema\n",
        "P = cvx.Problem(Z,r)\n",
        "\n",
        "# Solucionar\n",
        "P.solve()\n",
        "\n",
        "# Impresiones\n",
        "print(P.status)\n",
        "print(P.value)\n",
        "print(x.value)\n"
      ]
    },
    {
      "cell_type": "code",
      "source": [
        "#@title Asignación con Holgura\n",
        "\n",
        "# Variables de decisión\n",
        "x = cvx.Variable((4,3), boolean = True)\n",
        "\n",
        "# Función objetivo\n",
        "c = [\n",
        "    [10,9,6,0],\n",
        "    [15,18,14,0],\n",
        "    [9,5,3,0]\n",
        "    ]\n",
        "\n",
        "Z = cvx.Minimize(cvx.sum(cvx.multiply(c,x)))\n",
        "\n",
        "# Restricciones\n",
        "r = [\n",
        "    # De oferta:\n",
        "     cvx.sum(x[0,:]) <= 1,\n",
        "     cvx.sum(x[1,:]) <= 1,\n",
        "     cvx.sum(x[2,:]) <= 1,\n",
        "     cvx.sum(x[3,:]) <= 1,\n",
        "\n",
        "    # De demanda:\n",
        "     cvx.sum(x[:,0]) >= 1,\n",
        "     cvx.sum(x[:,1]) >= 1,\n",
        "     cvx.sum(x[:,2]) >= 2,\n",
        "]\n",
        "\n",
        "# Configurar el problema\n",
        "P = cvx.Problem(Z,r)\n",
        "\n",
        "# Solucionar\n",
        "P.solve()\n",
        "\n",
        "# Impresiones\n",
        "print(P.status)\n",
        "print(P.value)\n",
        "print(x.value)"
      ],
      "metadata": {
        "cellView": "form",
        "id": "3LN8JnTAo4Q8"
      },
      "execution_count": null,
      "outputs": []
    },
    {
      "cell_type": "code",
      "source": [
        "#@title Red de computadores (TRASBORDO)\n",
        "# Variables de decisión\n",
        "x = cvx.Variable((7,7), boolean = True)\n",
        "\n",
        "# Función objetivo\n",
        "c = [\n",
        "    [99999,99999,3    ,4    ,99999,99999,99999],\n",
        "    [99999,99999,2    ,5    ,99999,99999,99999],\n",
        "    [99999,99999,99999,7    ,8    ,6    ,99999],\n",
        "    [99999,99999,99999,99999,99999,4    ,9    ],\n",
        "    [99999,99999,99999,99999,99999,5    ,99999],\n",
        "    [99999,99999,99999,99999,99999,99999,3    ],\n",
        "    [99999,99999,99999,99999,99999,99999,99999],\n",
        "    ]\n",
        "\n",
        "Z = cvx.Minimize(cvx.sum(cvx.multiply(c,x)))\n",
        "\n",
        "# Restricciones\n",
        "r = [\n",
        "    # De oferta:\n",
        "     cvx.sum(x[0,:]) <= 1,\n",
        "     cvx.sum(x[1,:]) <= 1,\n",
        "     cvx.sum(x[2,:]) <= 1,\n",
        "\n",
        "    # De demanda:\n",
        "     cvx.sum(x[:,0]) >= 1,\n",
        "     cvx.sum(x[:,1]) >= 1,\n",
        "     cvx.sum(x[:,2]) >= 1,\n",
        "]\n",
        "\n",
        "# Configurar el problema\n",
        "P = cvx.Problem(Z,r)\n",
        "\n",
        "# Solucionar\n",
        "P.solve()\n",
        "\n",
        "# Impresiones\n",
        "print(P.status)\n",
        "print(P.value)\n",
        "print(x.value)\n"
      ],
      "metadata": {
        "colab": {
          "base_uri": "https://localhost:8080/"
        },
        "cellView": "form",
        "id": "r3sGKoG0o7Pg",
        "outputId": "fc5eb9b4-6644-463d-d798-b2e533874501"
      },
      "execution_count": null,
      "outputs": [
        {
          "output_type": "stream",
          "name": "stdout",
          "text": [
            "optimal\n",
            "12.0\n",
            "[[0. 0. 0. 0. 0. 0. 0.]\n",
            " [0. 0. 0. 0. 0. 0. 0.]\n",
            " [0. 1. 0. 0. 0. 0. 0.]\n",
            " [1. 0. 0. 0. 0. 0. 0.]\n",
            " [0. 0. 0. 0. 0. 0. 0.]\n",
            " [0. 0. 1. 0. 0. 0. 0.]\n",
            " [0. 0. 0. 0. 0. 0. 0.]]\n"
          ]
        }
      ]
    },
    {
      "cell_type": "code",
      "source": [
        "#@title Constructora\n",
        "# Variables de decisión\n",
        "x = cvx.Variable((5,4), boolean = True)\n",
        "\n",
        "# Función objetivo\n",
        "c = [\n",
        "      [10,8,8,5,8],\n",
        "      [9,7,6,7,7],\n",
        "      [6,6,5,7,6],\n",
        "      [5,6,6,6,5]\n",
        "    ]\n",
        "\n",
        "Z = cvx.Minimize(cvx.sum(cvx.multiply(c,x)))\n",
        "\n",
        "# Restricciones\n",
        "r = [\n",
        "    # De oferta:\n",
        "\n",
        "     cvx.sum(x[0,:]) <= 1,\n",
        "     cvx.sum(x[1,:]) <= 1,\n",
        "     cvx.sum(x[2,:]) <= 1,\n",
        "     cvx.sum(x[3,:]) <= 1,\n",
        "     cvx.sum(x[4,:]) <= 1,\n",
        "\n",
        "    # De demanda:\n",
        "     cvx.sum(x[:,0]) >= 1,\n",
        "     cvx.sum(x[:,1]) >= 1,\n",
        "     cvx.sum(x[:,2]) >= 1,\n",
        "     cvx.sum(x[:,3]) >= 1,\n",
        "]\n",
        "\n",
        "# Configurar el problema\n",
        "P = cvx.Problem(Z,r)\n",
        "\n",
        "# Solucionar\n",
        "P.solve()\n",
        "\n",
        "# Impresiones\n",
        "print(P.status)\n",
        "print(P.value)\n",
        "print(x.value)\n"
      ],
      "metadata": {
        "colab": {
          "base_uri": "https://localhost:8080/"
        },
        "id": "B4cGByFLyELq",
        "outputId": "84948924-e568-4230-e8d4-9d896752b26a",
        "cellView": "form"
      },
      "execution_count": 3,
      "outputs": [
        {
          "output_type": "stream",
          "name": "stdout",
          "text": [
            "optimal\n",
            "22.0\n",
            "[[0. 0. 0. 1.]\n",
            " [0. 1. 0. 0.]\n",
            " [0. 0. 1. 0.]\n",
            " [1. 0. 0. 0.]\n",
            " [0. 0. 0. 0.]]\n"
          ]
        }
      ]
    },
    {
      "cell_type": "code",
      "source": [
        "#@title Traductor\n",
        "# Variables de decisión\n",
        "x = cvx.Variable((5,4), boolean = True)\n",
        "\n",
        "# Función objetivo\n",
        "c = [\n",
        "      [60 ,116,120,114,0],\n",
        "      [105,109,102,105,0],\n",
        "      [105,107,113,118,0],\n",
        "      [110,96 ,111,115,0]\n",
        "    ]\n",
        "\n",
        "Z = cvx.Minimize(cvx.sum(cvx.multiply(c,x)))\n",
        "\n",
        "# Restricciones\n",
        "r = [\n",
        "    # De oferta:\n",
        "\n",
        "     cvx.sum(x[0,:]) <= 1,\n",
        "     cvx.sum(x[1,:]) <= 1,\n",
        "     cvx.sum(x[2,:]) <= 1,\n",
        "     cvx.sum(x[3,:]) <= 1,\n",
        "     cvx.sum(x[4,:]) <= 1,\n",
        "\n",
        "\n",
        "    # De demanda:\n",
        "     cvx.sum(x[:,0]) >= 2,\n",
        "     cvx.sum(x[:,1]) >= 1,\n",
        "     cvx.sum(x[:,2]) >= 1,\n",
        "     cvx.sum(x[:,3]) >= 1,\n",
        "\n",
        "     #extras:\n",
        "     #x[0,0] == 0,\n",
        "     #x[3,3] == 0\n",
        "]\n",
        "\n",
        "# Configurar el problema\n",
        "P = cvx.Problem(Z,r)\n",
        "\n",
        "# Solucionar\n",
        "P.solve()\n",
        "\n",
        "# Impresiones\n",
        "print(P.status)\n",
        "print(P.value)\n",
        "print(x.value)\n"
      ],
      "metadata": {
        "colab": {
          "base_uri": "https://localhost:8080/"
        },
        "cellView": "form",
        "id": "UxXi5GOj4TLd",
        "outputId": "af9eec4b-541c-4e17-90b3-483305d86fe2"
      },
      "execution_count": 5,
      "outputs": [
        {
          "output_type": "stream",
          "name": "stdout",
          "text": [
            "optimal\n",
            "372.0\n",
            "[[1. 0. 0. 0.]\n",
            " [0. 0. 0. 1.]\n",
            " [0. 1. 0. 0.]\n",
            " [1. 0. 0. 0.]\n",
            " [0. 0. 1. 0.]]\n"
          ]
        }
      ]
    },
    {
      "cell_type": "code",
      "source": [
        "#@title Empresa\n",
        "# Variables de decisión\n",
        "x = cvx.Variable((4,3), boolean = True)\n",
        "\n",
        "# Función objetivo\n",
        "c = [\n",
        "      [8 , 17, 19, 17],\n",
        "      [12, 11, 6 , 8 ],\n",
        "      [16, 16, 6 , 19],\n",
        " \n",
        "    ]\n",
        "\n",
        "Z = cvx.Minimize(cvx.sum(cvx.multiply(c,x)))\n",
        "\n",
        "# Restricciones\n",
        "r = [\n",
        "    # De oferta:\n",
        "\n",
        "     cvx.sum(x[0,:]) <= 1,\n",
        "     cvx.sum(x[1,:]) <= 1,\n",
        "     cvx.sum(x[2,:]) <= 1,\n",
        "\n",
        "\n",
        "    # De demanda:\n",
        "     cvx.sum(x[:,0]) >= 1,\n",
        "     cvx.sum(x[:,1]) >= 1,\n",
        "     cvx.sum(x[:,2]) >= 1,\n",
        "\n",
        "]\n",
        "\n",
        "# Configurar el problema\n",
        "P = cvx.Problem(Z,r)\n",
        "\n",
        "# Solucionar\n",
        "P.solve()\n",
        "\n",
        "# Impresiones\n",
        "print(P.status)\n",
        "print(P.value)\n",
        "print(x.value)\n"
      ],
      "metadata": {
        "colab": {
          "base_uri": "https://localhost:8080/"
        },
        "id": "1mrG8ZnB5fC7",
        "outputId": "54fb33e8-f7c0-4df2-e82c-e0113aa5fc55",
        "cellView": "form"
      },
      "execution_count": null,
      "outputs": [
        {
          "output_type": "stream",
          "name": "stdout",
          "text": [
            "optimal\n",
            "22.0\n",
            "[[1. 0. 0.]\n",
            " [0. 0. 0.]\n",
            " [0. 0. 1.]\n",
            " [0. 1. 0.]]\n"
          ]
        }
      ]
    },
    {
      "cell_type": "code",
      "source": [
        "#@title Gobierno fotovoltaica\n",
        "# Variables de decisión\n",
        "x = cvx.Variable((3,3), boolean = True)\n",
        "\n",
        "# Función objetivo\n",
        "c = [\n",
        "      [175, 292, 319],\n",
        "      [190, 370, 170],\n",
        "      [254, 148, 350]\n",
        "    ]\n",
        "\n",
        "Z = cvx.Minimize(cvx.sum(cvx.multiply(c,x)))\n",
        "\n",
        "# Restricciones\n",
        "r = [\n",
        "    # De oferta:\n",
        "\n",
        "     cvx.sum(x[0,:]) <= 1,\n",
        "     cvx.sum(x[1,:]) <= 1,\n",
        "     cvx.sum(x[2,:]) <= 1,\n",
        "\n",
        "    # De demanda:\n",
        "     cvx.sum(x[:,0]) >= 1,\n",
        "     cvx.sum(x[:,1]) >= 1,\n",
        "     cvx.sum(x[:,2]) >= 1\n",
        "\n",
        "]\n",
        "\n",
        "# Configurar el problema\n",
        "P = cvx.Problem(Z,r)\n",
        "\n",
        "# Solucionar\n",
        "P.solve()\n",
        "\n",
        "# Impresiones\n",
        "print(P.status)\n",
        "print(P.value)\n",
        "print(x.value)\n"
      ],
      "metadata": {
        "colab": {
          "base_uri": "https://localhost:8080/"
        },
        "cellView": "form",
        "id": "jtBAY4rnBHyv",
        "outputId": "38ff1e88-b144-4a3a-cce8-857c84bc9858"
      },
      "execution_count": null,
      "outputs": [
        {
          "output_type": "stream",
          "name": "stdout",
          "text": [
            "optimal\n",
            "493.0\n",
            "[[1. 0. 0.]\n",
            " [0. 0. 1.]\n",
            " [0. 1. 0.]]\n"
          ]
        }
      ]
    },
    {
      "cell_type": "code",
      "source": [
        "#@title Fabrica mantenimiento\n",
        "# Variables de decisión\n",
        "x = cvx.Variable((3,3), boolean = True)\n",
        "\n",
        "# Función objetivo\n",
        "c = [\n",
        "      [15,9,5],\n",
        "      [9,8,2],\n",
        "      [5,3,7]\n",
        "    ]\n",
        "\n",
        "Z = cvx.Minimize(cvx.sum(cvx.multiply(c,x)))\n",
        "\n",
        "# Restricciones\n",
        "r = [\n",
        "    # De oferta:\n",
        "\n",
        "     cvx.sum(x[0,:]) <= 1,\n",
        "     cvx.sum(x[1,:]) <= 1,\n",
        "     cvx.sum(x[2,:]) <= 1,\n",
        "\n",
        "    # De demanda:\n",
        "     cvx.sum(x[:,0]) >= 1,\n",
        "     cvx.sum(x[:,1]) >= 1,\n",
        "     cvx.sum(x[:,2]) >= 1,\n",
        "]\n",
        "\n",
        "# Configurar el problema\n",
        "P = cvx.Problem(Z,r)\n",
        "\n",
        "# Solucionar\n",
        "P.solve()\n",
        "\n",
        "# Impresiones\n",
        "print(P.status)\n",
        "print(P.value)\n",
        "print(x.value)\n"
      ],
      "metadata": {
        "colab": {
          "base_uri": "https://localhost:8080/"
        },
        "cellView": "form",
        "id": "bl3QHS_cB1Wi",
        "outputId": "ea87e65a-5822-4e27-e024-0acfab27cd02"
      },
      "execution_count": null,
      "outputs": [
        {
          "output_type": "stream",
          "name": "stdout",
          "text": [
            "optimal\n",
            "16.0\n",
            "[[0. 0. 1.]\n",
            " [1. 0. 0.]\n",
            " [0. 1. 0.]]\n"
          ]
        }
      ]
    },
    {
      "cell_type": "code",
      "source": [
        "#@title Reality show\n",
        "# Variables de decisión\n",
        "x = cvx.Variable((4,4), boolean = True)\n",
        "\n",
        "# Función objetivo\n",
        "c = [\n",
        "      [27,28.5,26,29],\n",
        "      [27.5,28.5,26.5,30],\n",
        "      [25.9,26,27,27.5],\n",
        "      [26.5,26,28,28.5]\n",
        "    ]\n",
        "\n",
        "Z = cvx.Minimize(cvx.sum(cvx.multiply(c,x)))\n",
        "\n",
        "# Restricciones\n",
        "r = [\n",
        "    # De oferta:\n",
        "\n",
        "     cvx.sum(x[0,:]) <= 1,\n",
        "     cvx.sum(x[1,:]) <= 1,\n",
        "     cvx.sum(x[2,:]) <= 1,\n",
        "     cvx.sum(x[3,:]) <= 1,\n",
        "\n",
        "    # De demanda:\n",
        "     cvx.sum(x[:,0]) >= 1,\n",
        "     cvx.sum(x[:,1]) >= 1,\n",
        "     cvx.sum(x[:,2]) >= 1,\n",
        "     cvx.sum(x[:,3]) >= 1,\n",
        "\n",
        "     #extra\n",
        "     x[0,3] == 1\n",
        "]\n",
        "\n",
        "# Configurar el problema\n",
        "P = cvx.Problem(Z,r)\n",
        "\n",
        "# Solucionar\n",
        "P.solve()\n",
        "\n",
        "# Impresiones\n",
        "print(P.status)\n",
        "print(P.value)\n",
        "print(x.value)\n"
      ],
      "metadata": {
        "colab": {
          "base_uri": "https://localhost:8080/"
        },
        "cellView": "form",
        "id": "aXCSUENHC2xn",
        "outputId": "8a79224e-2530-41fa-ed7d-489908e28902"
      },
      "execution_count": null,
      "outputs": [
        {
          "output_type": "stream",
          "name": "stdout",
          "text": [
            "optimal\n",
            "108.0\n",
            "[[0. 0. 0. 1.]\n",
            " [0. 0. 1. 0.]\n",
            " [0. 1. 0. 0.]\n",
            " [1. 0. 0. 0.]]\n"
          ]
        }
      ]
    }
  ]
}