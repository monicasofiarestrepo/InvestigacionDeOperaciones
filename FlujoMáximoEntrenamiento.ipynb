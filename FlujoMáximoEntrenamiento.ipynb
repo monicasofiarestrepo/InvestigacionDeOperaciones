{
  "nbformat": 4,
  "nbformat_minor": 0,
  "metadata": {
    "colab": {
      "provenance": [],
      "include_colab_link": true
    },
    "kernelspec": {
      "name": "python3",
      "display_name": "Python 3"
    },
    "language_info": {
      "name": "python"
    }
  },
  "cells": [
    {
      "cell_type": "markdown",
      "metadata": {
        "id": "view-in-github",
        "colab_type": "text"
      },
      "source": [
        "<a href=\"https://colab.research.google.com/github/monicasofiarestrepo/InvestigacionDeOperaciones/blob/main/RutaCr%C3%ADtica_y_FlujoM%C3%A1ximoEntrenamiento.ipynb\" target=\"_parent\"><img src=\"https://colab.research.google.com/assets/colab-badge.svg\" alt=\"Open In Colab\"/></a>"
      ]
    },
    {
      "cell_type": "code",
      "execution_count": 1,
      "metadata": {
        "id": "TDKNcp19wD4T"
      },
      "outputs": [],
      "source": [
        "#@title Importar librerías\n",
        "import cvxpy as cvx\n",
        "import numpy as np"
      ]
    },
    {
      "cell_type": "code",
      "source": [
        "# Variables de decisión\n",
        " #Ruta critica ej en clase\n",
        "x = cvx.Variable((13,13), boolean = True)\n",
        "\n",
        "# Función objetivo:\n",
        "c = [\n",
        "    [-99999,-99999,-99999,-99999,-99999,-99999,-99999,-99999,-99999,-99999,-99999,-99999,-99999],\n",
        "    [2,-99999,-99999,-99999,-99999,-99999,-99999,-99999,-99999,-99999,-99999,-99999,-99999],\n",
        "    [-99999,4,-99999,-99999,-99999,-99999,-99999,-99999,-99999,-99999,-99999,-99999,-99999],\n",
        "    [-99999,-99999,10,-99999,-99999,-99999,-99999,-99999,-99999,-99999,-99999,-99999,-99999],\n",
        "    [-99999,-99999,-99999,4,-99999,-99999,-99999,-99999,-99999,-99999,-99999,-99999,-99999],\n",
        "    [-99999,-99999,-99999,6,-99999,-99999,-99999,-99999,-99999,-99999,-99999,-99999,-99999],\n",
        "    [-99999,-99999,-99999,7,5,-99999,-99999,-99999,-99999,-99999,-99999,-99999,-99999],\n",
        "    [-99999,-99999,-99999,-99999,0,7,-99999,-99999,-99999,-99999,-99999,-99999,-99999],\n",
        "    [-99999,-99999,-99999,-99999,-99999,-99999,8,-99999,-99999,-99999,-99999,-99999,-99999],\n",
        "    [-99999,-99999,-99999,-99999,-99999,-99999,-99999,9,-99999,-99999,-99999,-99999,-99999],\n",
        "    [-99999,-99999,-99999,-99999,-99999,-99999,-99999,-99999,4,-99999,-99999,-99999,-99999],\n",
        "    [-99999,-99999,-99999,-99999,-99999,-99999,-99999,-99999,5,-99999,0,-99999,-99999],\n",
        "    [-99999,-99999,-99999,-99999,-99999,-99999,-99999,-99999,-99999,2,-99999,6,-99999],\n",
        "  ]\n",
        "\n",
        "Z = cvx.Maximize(cvx.sum(cvx.multiply(c,x)))\n",
        "\n",
        "# Restricciones\n",
        "r = [\n",
        "    # de oferta\n",
        "     cvx.sum(x[0,:]) <= 1,\n",
        "\n",
        "    # de demanda\n",
        "     cvx.sum(x[:,12]) >= 1,\n",
        "\n",
        "    # de transbordo\n",
        "    cvx.sum(x[:,1]) - cvx.sum(x[1,:]) >= 0,\n",
        "    cvx.sum(x[:,2]) - cvx.sum(x[2,:]) >= 0,\n",
        "    cvx.sum(x[:,3]) - cvx.sum(x[3,:]) >= 0,\n",
        "    cvx.sum(x[:,4]) - cvx.sum(x[4,:]) >= 0,\n",
        "    cvx.sum(x[:,5]) - cvx.sum(x[5,:]) >= 0,\n",
        "    cvx.sum(x[:,6]) - cvx.sum(x[6,:]) >= 0,\n",
        "    cvx.sum(x[:,7]) - cvx.sum(x[7,:]) >= 0,\n",
        "    cvx.sum(x[:,8]) - cvx.sum(x[8,:]) >= 0,\n",
        "    cvx.sum(x[:,9]) - cvx.sum(x[9,:]) >= 0,\n",
        "    cvx.sum(x[:,10]) - cvx.sum(x[10,:]) >= 0,\n",
        "    cvx.sum(x[:,11]) - cvx.sum(x[11,:]) >= 0,\n",
        "]\n",
        "\n",
        "P = cvx.Problem(Z,r)\n",
        "P.solve()\n",
        "\n",
        "print(P.status)\n",
        "print(P.value)\n",
        "print(np.round(x.value,0))\n"
      ],
      "metadata": {
        "colab": {
          "base_uri": "https://localhost:8080/"
        },
        "id": "-Lp_twJbwHpO",
        "outputId": "3a96bee4-1e54-4e38-ec5c-e6db25d7a211"
      },
      "execution_count": null,
      "outputs": [
        {
          "output_type": "stream",
          "name": "stdout",
          "text": [
            "optimal\n",
            "44.0\n",
            "[[0. 1. 0. 0. 0. 0. 0. 0. 0. 0. 0. 0. 0.]\n",
            " [0. 0. 1. 0. 0. 0. 0. 0. 0. 0. 0. 0. 0.]\n",
            " [0. 0. 0. 1. 0. 0. 0. 0. 0. 0. 0. 0. 0.]\n",
            " [0. 0. 0. 0. 1. 0. 0. 0. 0. 0. 0. 0. 0.]\n",
            " [0. 0. 0. 0. 0. 0. 1. 0. 0. 0. 0. 0. 0.]\n",
            " [0. 0. 0. 0. 0. 0. 0. 0. 0. 0. 0. 0. 0.]\n",
            " [0. 0. 0. 0. 0. 0. 0. 0. 1. 0. 0. 0. 0.]\n",
            " [0. 0. 0. 0. 0. 0. 0. 0. 0. 0. 0. 0. 0.]\n",
            " [0. 0. 0. 0. 0. 0. 0. 0. 0. 0. 0. 1. 0.]\n",
            " [0. 0. 0. 0. 0. 0. 0. 0. 0. 0. 0. 0. 0.]\n",
            " [0. 0. 0. 0. 0. 0. 0. 0. 0. 0. 0. 0. 0.]\n",
            " [0. 0. 0. 0. 0. 0. 0. 0. 0. 0. 0. 0. 1.]\n",
            " [0. 0. 0. 0. 0. 0. 0. 0. 0. 0. 0. 0. 0.]]\n"
          ]
        }
      ]
    },
    {
      "cell_type": "markdown",
      "source": [
        "# Flujo máximo"
      ],
      "metadata": {
        "id": "BJYwIXmf8NED"
      }
    },
    {
      "cell_type": "code",
      "source": [
        "# Variables de decisión\n",
        "x = cvx.Variable((7,7), nonneg=True)\n",
        "\n",
        "# Función objetivo\n",
        "Z = cvx.Maximize(cvx.sum(x[:,6]))\n",
        "\n",
        "# Restricciones\n",
        "\n",
        "# capacidades de los enlaces\n",
        "b = [\n",
        "    [0,0,0,0,0,0,0],\n",
        "    [5000,0,2000,0,0,0,0],\n",
        "    [6000,2000,0,0,0,0,0],\n",
        "    [5000,0,3000,0,0,0,0],\n",
        "    [0,3000,3000,0,0,1000,0],\n",
        "    [0,0,7000,5000,1000,0,0],\n",
        "    [0,0,0,0,8000,7000,0],\n",
        "]\n",
        "\n",
        "r =[\n",
        "    # de capacidad\n",
        "    x <= b,\n",
        "\n",
        "    # de transbordo\n",
        "    cvx.sum(x[:,1]) - cvx.sum(x[1,:]) >= 0,\n",
        "    cvx.sum(x[:,2]) - cvx.sum(x[2,:]) >= 0,\n",
        "    cvx.sum(x[:,3]) - cvx.sum(x[3,:]) >= 0,\n",
        "    cvx.sum(x[:,4]) - cvx.sum(x[4,:]) >= 0,\n",
        "    cvx.sum(x[:,5]) - cvx.sum(x[5,:]) >= 0,\n",
        "\n",
        "    # evitar carros atrapados en la ciudad\n",
        "    cvx.sum(x[0,:]) == cvx.sum(x[:,6])\n",
        "]\n",
        "\n",
        "P = cvx.Problem(Z,r)\n",
        "P.solve()\n",
        "\n",
        "print(P.status)\n",
        "print(P.value)\n",
        "print(np.round(x.value,0))"
      ],
      "metadata": {
        "colab": {
          "base_uri": "https://localhost:8080/"
        },
        "id": "OKc5bQbd8MWn",
        "outputId": "fba1aa61-bb21-404d-ffa9-480b10d12335"
      },
      "execution_count": null,
      "outputs": [
        {
          "output_type": "stream",
          "name": "stdout",
          "text": [
            "optimal\n",
            "13999.999999789194\n",
            "[[   0. 4331. 5520. 4149.    0.    0.    0.]\n",
            " [   0.    0. 1666.    0. 3000.    0.    0.]\n",
            " [   0.  334.    0.  325. 3000. 3526.    0.]\n",
            " [   0.    0.    0.    0.    0. 4474.    0.]\n",
            " [   0.    0.    0.    0.    0.    0. 7000.]\n",
            " [   0.    0.    0.    0. 1000.    0. 7000.]\n",
            " [   0.    0.    0.    0.    0.    0.    0.]]\n"
          ]
        }
      ]
    },
    {
      "cell_type": "code",
      "source": [
        "cvx.sum(x[0,:]).value\n",
        "#todo lo que entra"
      ],
      "metadata": {
        "colab": {
          "base_uri": "https://localhost:8080/"
        },
        "id": "fzo74dIL-QBm",
        "outputId": "ad403d9c-becd-4fb1-a960-54656d92c9da"
      },
      "execution_count": null,
      "outputs": [
        {
          "output_type": "execute_result",
          "data": {
            "text/plain": [
              "13999.999999811067"
            ]
          },
          "metadata": {},
          "execution_count": 13
        }
      ]
    },
    {
      "cell_type": "markdown",
      "source": [
        "#ENTRENAMIENTO"
      ],
      "metadata": {
        "id": "eNjWIf6PUmTO"
      }
    },
    {
      "cell_type": "code",
      "source": [
        "#@title Giga Wats / hora\n",
        "# Variables de decisión\n",
        "x = cvx.Variable((7,7), nonneg=True)\n",
        "\n",
        "# Función objetivo\n",
        "Z = cvx.Maximize(cvx.sum(x[:,6]))\n",
        "\n",
        "# Restricciones\n",
        "\n",
        "# capacidades de los enlaces\n",
        "b = [\n",
        "    [0   ,0   ,0   ,0   ,0   ,0   ,0   ],\n",
        "    [25  ,0   ,8   ,0   ,0   ,0   ,0   ],\n",
        "    [19  ,4   ,0   ,0   ,0   ,0   ,0   ],\n",
        "    [9   ,0   ,2   ,0   ,0   ,0   ,0   ],\n",
        "    [0   ,11  ,11  ,0   ,0   ,3   ,0   ],\n",
        "    [0   ,0   ,9   ,4   ,10  ,0   ,0   ],\n",
        "    [0   ,0   ,0   ,0   ,8   ,5   ,0   ],\n",
        "]\n",
        "\n",
        "r =[\n",
        "    # de capacidad\n",
        "    x <= b,\n",
        "\n",
        "    # de transbordo\n",
        "    cvx.sum(x[:,1]) - cvx.sum(x[1,:]) >= 0,\n",
        "    cvx.sum(x[:,2]) - cvx.sum(x[2,:]) >= 0,\n",
        "    cvx.sum(x[:,3]) - cvx.sum(x[3,:]) >= 0,\n",
        "    cvx.sum(x[:,4]) - cvx.sum(x[4,:]) >= 0,\n",
        "    cvx.sum(x[:,5]) - cvx.sum(x[5,:]) >= 0,\n",
        "    \n",
        "\n",
        "    # evitar perdida de energía\n",
        "    cvx.sum(x[0,:]) == cvx.sum(x[:,6])\n",
        "]\n",
        "\n",
        "P = cvx.Problem(Z,r)\n",
        "P.solve()\n",
        "\n",
        "print(P.status)\n",
        "print(round(P.value, 0))\n",
        "print(np.round(x.value,0))"
      ],
      "metadata": {
        "id": "tRDjBO1mgKM_",
        "outputId": "4139a13f-a260-4ab4-9194-ac17de2b4439",
        "colab": {
          "base_uri": "https://localhost:8080/"
        }
      },
      "execution_count": 2,
      "outputs": [
        {
          "output_type": "stream",
          "name": "stdout",
          "text": [
            "optimal\n",
            "13.0\n",
            "[[0. 5. 7. 1. 0. 0. 0.]\n",
            " [0. 0. 3. 0. 5. 0. 0.]\n",
            " [0. 3. 0. 1. 4. 2. 0.]\n",
            " [0. 0. 0. 0. 0. 2. 0.]\n",
            " [0. 0. 0. 0. 0. 3. 8.]\n",
            " [0. 0. 0. 0. 2. 0. 5.]\n",
            " [0. 0. 0. 0. 0. 0. 0.]]\n"
          ]
        }
      ]
    },
    {
      "cell_type": "markdown",
      "source": [],
      "metadata": {
        "id": "byPTwlp1Wo6b"
      }
    },
    {
      "cell_type": "code",
      "source": [
        "#maximo flujo red 7x7 (de 0 a 6) \n",
        "\n",
        "# Variables de decisión\n",
        "x = cvx.Variable((7,7), nonneg=True)\n",
        "\n",
        "# Función objetivo\n",
        "Z = cvx.Maximize(cvx.sum(x[:,6]))\n",
        "\n",
        "# Restricciones\n",
        "\n",
        "# capacidades de los enlaces\n",
        "b = [\n",
        "    [0 ,0 ,0 ,0 ,0 ,0 ,0 ],\n",
        "    [10,0 ,1 ,0 ,0 ,0 ,0 ],\n",
        "    [10,1 ,0 ,0 ,0 ,0 ,0 ],\n",
        "    [0 ,8 ,0 ,0 ,3 ,0 ,0 ],\n",
        "    [0 ,6 ,4 ,3 ,0 ,2 ,0 ],\n",
        "    [0 ,0 ,12,0 ,2 ,0 ,0 ] ,\n",
        "    [0 ,0 ,0 ,7 ,2 ,1 ,0 ],\n",
        "]\n",
        "\n",
        "r =[\n",
        "    # de capacidad\n",
        "    x <= b,\n",
        "\n",
        "    # de transbordo\n",
        "    cvx.sum(x[:,1]) - cvx.sum(x[1,:]) >= 0,\n",
        "    cvx.sum(x[:,2]) - cvx.sum(x[2,:]) >= 0,\n",
        "    cvx.sum(x[:,3]) - cvx.sum(x[3,:]) >= 0,\n",
        "    cvx.sum(x[:,4]) - cvx.sum(x[4,:]) >= 0,\n",
        "    cvx.sum(x[:,5]) - cvx.sum(x[5,:]) >= 0,\n",
        "\n",
        "    # evitar atascados\n",
        "    cvx.sum(x[0,:]) == cvx.sum(x[:,6])\n",
        "]\n",
        "\n",
        "P = cvx.Problem(Z,r)\n",
        "P.solve()\n",
        "\n",
        "print(P.status)\n",
        "print(np.round(P.value,0))\n",
        "print(np.round(x.value,0))"
      ],
      "metadata": {
        "id": "17sdb3gZUkYL",
        "outputId": "8528f4ad-539e-40ab-92aa-242131c568a0",
        "colab": {
          "base_uri": "https://localhost:8080/"
        }
      },
      "execution_count": 4,
      "outputs": [
        {
          "output_type": "stream",
          "name": "stdout",
          "text": [
            "optimal\n",
            "10.0\n",
            "[[0. 6. 4. 0. 0. 0. 0.]\n",
            " [0. 0. 0. 5. 1. 0. 0.]\n",
            " [0. 1. 0. 0. 2. 2. 0.]\n",
            " [0. 0. 0. 0. 1. 0. 7.]\n",
            " [0. 0. 0. 2. 0. 1. 2.]\n",
            " [0. 0. 0. 0. 1. 0. 1.]\n",
            " [0. 0. 0. 0. 0. 0. 0.]]\n"
          ]
        }
      ]
    },
    {
      "cell_type": "code",
      "source": [
        "#@title Flujo de Agua \n",
        "# Variables de decisión\n",
        "x = cvx.Variable((7,7), nonneg=True)\n",
        "\n",
        "# Función objetivo\n",
        "Z = cvx.Maximize(cvx.sum(x[:,6]))\n",
        "\n",
        "# Restricciones\n",
        "\n",
        "# capacidades de los enlaces\n",
        "b = [\n",
        "    [0   ,0   ,0   ,0   ,0   ,0   ,0   ],\n",
        "    [6   ,0   ,0   ,0   ,0   ,0   ,0   ],\n",
        "    [4   ,0   ,0   ,0   ,0   ,0   ,0   ],\n",
        "    [1   ,0   ,3   ,0   ,0   ,0   ,0   ],\n",
        "    [0   ,4   ,1   ,0   ,0   ,0   ,0   ],\n",
        "    [0   ,0   ,3   ,4   ,2   ,0   ,0   ],\n",
        "    [0   ,0   ,0   ,0   ,4   ,9   ,0   ],\n",
        "]\n",
        "\n",
        "r =[\n",
        "    # de capacidad\n",
        "    x <= b,\n",
        "\n",
        "    # de transbordo\n",
        "    cvx.sum(x[:,1]) - cvx.sum(x[1,:]) >= 0,\n",
        "    cvx.sum(x[:,2]) - cvx.sum(x[2,:]) >= 0,\n",
        "    cvx.sum(x[:,3]) - cvx.sum(x[3,:]) >= 0,\n",
        "    cvx.sum(x[:,4]) - cvx.sum(x[4,:]) >= 0,\n",
        "    cvx.sum(x[:,5]) - cvx.sum(x[5,:]) >= 0,\n",
        "\n",
        "    # evitar cagua estancada\n",
        "    cvx.sum(x[0,:]) == cvx.sum(x[:,6])\n",
        "]\n",
        "\n",
        "P = cvx.Problem(Z,r)\n",
        "P.solve()\n",
        "\n",
        "print(P.status)\n",
        "print(round(P.value, 0))\n",
        "print(np.round(x.value,0))"
      ],
      "metadata": {
        "id": "YJZKyfxSgOhr",
        "outputId": "e9be6499-e327-419e-a51f-6c4bf9d7bfe7",
        "colab": {
          "base_uri": "https://localhost:8080/"
        }
      },
      "execution_count": 5,
      "outputs": [
        {
          "output_type": "stream",
          "name": "stdout",
          "text": [
            "optimal\n",
            "9.0\n",
            "[[0. 4. 4. 1. 0. 0. 0.]\n",
            " [0. 0. 0. 0. 4. 0. 0.]\n",
            " [0. 0. 0. 2. 0. 2. 0.]\n",
            " [0. 0. 0. 0. 0. 3. 0.]\n",
            " [0. 0. 0. 0. 0. 1. 3.]\n",
            " [0. 0. 0. 0. 0. 0. 6.]\n",
            " [0. 0. 0. 0. 0. 0. 0.]]\n"
          ]
        }
      ]
    },
    {
      "cell_type": "code",
      "source": [
        "#estudio de ingenieria de transito\n",
        "\n",
        "#maximo flujo red 6x6\n",
        "\n",
        "# Variables de decisión\n",
        "x = cvx.Variable((8,8), nonneg=True)\n",
        "\n",
        "# Función objetivo\n",
        "Z = cvx.Maximize(cvx.sum(x[:,7]))\n",
        "\n",
        "# Restricciones\n",
        "\n",
        "# capacidades de los enlaces\n",
        "b = [\n",
        "    [0 ,0 ,0 ,0 ,0 ,0 ,0 ,0],\n",
        "    [9 ,0 ,0 ,0 ,0 ,0 ,0 ,0],\n",
        "    [25,0 ,0 ,0 ,0 ,0 ,0 ,0],\n",
        "    [10,0 ,0 ,0 ,0 ,0 ,0 ,0],\n",
        "    [0 ,10,20,0 ,0 ,0 ,0 ,0],\n",
        "    [0 ,0 ,9 ,4 ,0 ,0 ,0 ,0] ,\n",
        "    [0 ,0 ,0 ,15,0 ,0 ,0 ,0],\n",
        "    [0 ,0 ,0 ,0 ,22,40,9 ,0],\n",
        "]\n",
        "\n",
        "r =[\n",
        "    # de capacidad\n",
        "    x <= b,\n",
        "\n",
        "    # de transbordo\n",
        "    cvx.sum(x[:,1]) - cvx.sum(x[1,:]) >= 0,\n",
        "    cvx.sum(x[:,2]) - cvx.sum(x[2,:]) >= 0,\n",
        "    cvx.sum(x[:,3]) - cvx.sum(x[3,:]) >= 0,\n",
        "    cvx.sum(x[:,4]) - cvx.sum(x[4,:]) >= 0,\n",
        "    cvx.sum(x[:,5]) - cvx.sum(x[5,:]) >= 0,\n",
        "    cvx.sum(x[:,6]) - cvx.sum(x[6,:]) >= 0,\n",
        "    cvx.sum(x[:,7]) - cvx.sum(x[7,:]) >= 0,\n",
        "\n",
        "    # evitar atascados\n",
        "    cvx.sum(x[0,:]) == cvx.sum(x[:,7])\n",
        "]\n",
        "\n",
        "P = cvx.Problem(Z,r)\n",
        "P.solve()\n",
        "\n",
        "print(P.status)\n",
        "print(np.round(P.value,0))\n",
        "print(np.round(x.value,0))"
      ],
      "metadata": {
        "id": "HYb5Cre_cP2P",
        "outputId": "a8e2810f-dafd-45b6-c649-79e0e84a5a94",
        "colab": {
          "base_uri": "https://localhost:8080/"
        }
      },
      "execution_count": 3,
      "outputs": [
        {
          "output_type": "stream",
          "name": "stdout",
          "text": [
            "optimal\n",
            "41.0\n",
            "[[ 0.  8. 23. 10.  0.  0.  0.  0.]\n",
            " [ 0.  0.  0.  0.  8.  0.  0.  0.]\n",
            " [ 0.  0.  0.  0. 14.  9.  0.  0.]\n",
            " [ 0.  0.  0.  0.  0.  3.  7.  0.]\n",
            " [ 0.  0.  0.  0.  0.  0.  0. 22.]\n",
            " [ 0.  0.  0.  0.  0.  0.  0. 12.]\n",
            " [ 0.  0.  0.  0.  0.  0.  0.  7.]\n",
            " [ 0.  0.  0.  0.  0.  0.  0.  0.]]\n"
          ]
        }
      ]
    },
    {
      "cell_type": "code",
      "source": [
        "#@title Maximo flujo red 11x11\n",
        "\n",
        "# Variables de decisión\n",
        "x = cvx.Variable((11,11), nonneg=True)\n",
        "\n",
        "# Función objetivo\n",
        "Z = cvx.Maximize(cvx.sum(x[:,10]))\n",
        "\n",
        "# Restricciones\n",
        "\n",
        "# capacidades de los enlaces\n",
        "b = [\n",
        "    [0 ,0 ,0 ,0 ,0 ,0 ,0, 0, 0, 0, 0 ],\n",
        "    [4 ,0 ,0 ,0 ,0 ,0 ,0, 0, 0, 0, 0 ],\n",
        "    [6 ,5 ,0 ,4 ,0 ,0 ,0, 0, 0, 0, 0 ],\n",
        "    [3 ,0 ,0 ,0 ,0 ,0 ,0, 0, 0, 0, 0 ],\n",
        "    [0 ,3 ,2 ,0 ,0 ,0 ,0, 0, 0, 0, 0 ],\n",
        "    [0 ,0 ,2 ,0 ,2 ,0 ,2, 0, 0, 0, 0 ],\n",
        "    [0 ,0 ,5 ,6 ,0 ,0 ,0, 0, 0, 0, 0 ],\n",
        "    [0 ,0 ,0 ,0 ,4 ,2 ,0, 0, 2, 0, 0 ],\n",
        "    [0 ,0 ,0 ,0 ,0 ,5 ,2, 0, 0, 0, 0 ],\n",
        "    [0 ,0 ,0 ,0 ,0 ,0 ,5, 0, 3, 0, 0 ],\n",
        "    [0 ,0 ,0 ,0 ,0 ,0 ,0, 7, 8, 4, 0 ],\n",
        "\n",
        "]\n",
        "\n",
        "r =[\n",
        "    # de capacidad\n",
        "    x <= b,\n",
        "\n",
        "    # de transbordo\n",
        "    cvx.sum(x[:,1]) - cvx.sum(x[1,:]) >= 0,\n",
        "    cvx.sum(x[:,2]) - cvx.sum(x[2,:]) >= 0,\n",
        "    cvx.sum(x[:,3]) - cvx.sum(x[3,:]) >= 0,\n",
        "    cvx.sum(x[:,4]) - cvx.sum(x[4,:]) >= 0,\n",
        "    cvx.sum(x[:,5]) - cvx.sum(x[5,:]) >= 0,\n",
        "    cvx.sum(x[:,6]) - cvx.sum(x[6,:]) >= 0,\n",
        "    cvx.sum(x[:,7]) - cvx.sum(x[7,:]) >= 0,\n",
        "    cvx.sum(x[:,8]) - cvx.sum(x[8,:]) >= 0,\n",
        "    cvx.sum(x[:,9]) - cvx.sum(x[9,:]) >= 0,\n",
        "\n",
        "    # evitar atascados\n",
        "    cvx.sum(x[0,:]) == cvx.sum(x[:,10])\n",
        "]\n",
        "\n",
        "P = cvx.Problem(Z,r)\n",
        "P.solve()\n",
        "\n",
        "print(P.status)\n",
        "print(np.round(P.value,0))\n",
        "print(np.round(x.value,0))"
      ],
      "metadata": {
        "id": "yfZFdbF2yOuZ"
      },
      "execution_count": null,
      "outputs": []
    }
  ]
}
