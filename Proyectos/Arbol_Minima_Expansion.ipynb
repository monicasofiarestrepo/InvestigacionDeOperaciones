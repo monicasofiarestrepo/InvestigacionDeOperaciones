{
 "cells": [
  {
   "attachments": {},
   "cell_type": "markdown",
   "metadata": {},
   "source": [
    "<h1>Vereda</h1>\n",
    "<img src=\"Imagenes/Vereda.png\" width=\"900\">"
   ]
  },
  {
   "attachments": {},
   "cell_type": "markdown",
   "metadata": {},
   "source": [
    "| De/Hacia| 1 | 2  | 3 | 4 | 5 | \n",
    "| :-:     |:-:|:-: |:-:|:-:|:-:| \n",
    "| 1 |       - | a  | b | - | c | \n",
    "| 2 |       a | -  | e | k | f | \n",
    "| 3 |       b | e  | - | g | d | \n",
    "| 4 |       - | k  | g | - | h | \n",
    "| 5 |       c | f  | d | h | - |  "
   ]
  },
  {
   "cell_type": "code",
   "execution_count": 8,
   "metadata": {},
   "outputs": [
    {
     "name": "stdout",
     "output_type": "stream",
     "text": [
      "optimal\n",
      "14.0\n",
      "     1    2    3    4    5\n",
      "1  0.0  0.0  0.0  0.0  1.0\n",
      "2  0.0  0.0  1.0  1.0 -0.0\n",
      "3  0.0  1.0  0.0  0.0  1.0\n",
      "4  0.0  1.0  0.0  0.0  0.0\n",
      "5  1.0  0.0  1.0  0.0  0.0\n"
     ]
    }
   ],
   "source": [
    "import cvxpy as cvx\n",
    "import numpy as np\n",
    "import pandas as pd\n",
    "# Variables de decisión\n",
    "x = cvx.Variable((5,5), boolean = True)\n",
    "a=29\n",
    "b=18\n",
    "c=2\n",
    "d=3\n",
    "e=2\n",
    "f=3\n",
    "g=11\n",
    "h=14\n",
    "k=7\n",
    "# Función objetivo:\n",
    "c = [\n",
    "    [99999,a,b,99999,c],\n",
    "    [a,99999,e,k,f],\n",
    "    [b,e,99999,g,d],\n",
    "    [99999,k,g,99999,h],\n",
    "    [c,f,d,h,99999]\n",
    "  ]\n",
    "\n",
    "Z = cvx.Minimize(cvx.sum(cvx.multiply(c,x)))/2\n",
    "\n",
    "# Restricciones\n",
    "r = [ \n",
    "    # todos los nodos actuan como demanda porque no deben estar aislados\n",
    "    cvx.sum(x[:,0]) >= 1,\n",
    "    cvx.sum(x[:,1]) >= 1,\n",
    "    cvx.sum(x[:,2]) >= 1,\n",
    "    cvx.sum(x[:,3]) >= 1,\n",
    "    cvx.sum(x[:,4]) >= 1,\n",
    "     \n",
    "    # garantizar simetría de la matriz\n",
    "    cvx.upper_tri(x) == cvx.upper_tri(x.T),\n",
    "\n",
    "    # garantizar que no hay redes aisaldas\n",
    "    cvx.sum(x) >= (5-1)*2 \n",
    "]\n",
    "\n",
    "P = cvx.Problem(Z,r)\n",
    "P.solve()\n",
    "xd=pd.DataFrame(np.round(x.value,0))\n",
    "a=[str(i) for i in range(1,len(c)+1)]\n",
    "xd.index = a\n",
    "xd.columns = a\n",
    "print(P.status)\n",
    "print(P.value)\n",
    "print(xd)"
   ]
  },
  {
   "attachments": {},
   "cell_type": "markdown",
   "metadata": {},
   "source": [
    "<h1>Lotes</h1>\n",
    "<img src=\"Imagenes/Lotes.png\" width=\"900\">"
   ]
  },
  {
   "attachments": {},
   "cell_type": "markdown",
   "metadata": {},
   "source": [
    "| De/Hacia| 1 | 2  | 3 | 4 | 5 | 6 | 7 | \n",
    "| :-:     |:-:|:-: |:-:|:-:|:-:|:-:|:-:| \n",
    "| 1 |       + | 3  | 1 | + | + | + | + | \n",
    "| 2 |       3 | +  | 8 | 0 | 5 | + | + | \n",
    "| 3 |       1 | 8  | + | + | + | + | + | \n",
    "| 4 |       + | 0  | + | + | a | + | 9 | \n",
    "| 5 |       + | 5  | + | a | + | 1 | 2 | \n",
    "| 6 |       + | +  | + | + | 1 | + | b | \n",
    "| 7 |       + | +  | + | 9 | 2 | b | + | "
   ]
  },
  {
   "cell_type": "code",
   "execution_count": 10,
   "metadata": {},
   "outputs": [
    {
     "name": "stdout",
     "output_type": "stream",
     "text": [
      "optimal\n",
      "11.0\n",
      "     1    2    3    4    5    6    7\n",
      "1  0.0  1.0  1.0  0.0  0.0  0.0  0.0\n",
      "2  1.0  0.0  0.0  1.0  0.0  0.0  0.0\n",
      "3  1.0  0.0  0.0  0.0  0.0  0.0  0.0\n",
      "4  0.0  1.0  0.0  0.0  0.0  0.0  0.0\n",
      "5  0.0  0.0  0.0  0.0  0.0  1.0  1.0\n",
      "6  0.0  0.0  0.0  0.0  1.0  0.0  1.0\n",
      "7  0.0  0.0  0.0  0.0  1.0  1.0  0.0\n"
     ]
    }
   ],
   "source": [
    "import cvxpy as cvx\n",
    "import numpy as np\n",
    "import pandas as pd\n",
    "# Variables de decisión\n",
    "x = cvx.Variable((7,7), boolean = True)\n",
    "a=6\n",
    "b=4\n",
    "# Función objetivo:\n",
    "c = [\n",
    "    [99999,3,1,99999,99999,99999,99999],\n",
    "    [3,99999,8,0,5,99999,99999],\n",
    "    [1,8,99999,99999,99999,99999,99999],\n",
    "    [99999,0,99999,99999,a,99999,9],\n",
    "    [99999,99999,99999,a,99999,1,2],\n",
    "    [99999,99999,99999,99999,1,99999,b],\n",
    "    [99999,99999,99999,9,2,b,99999],\n",
    "  ]\n",
    "\n",
    "Z = cvx.Minimize(cvx.sum(cvx.multiply(c,x)))/2\n",
    "\n",
    "# Restricciones\n",
    "r = [ \n",
    "    # todos los nodos actuan como demanda porque no deben estar aislados\n",
    "    cvx.sum(x[:,0]) >= 1,\n",
    "    cvx.sum(x[:,1]) >= 1,\n",
    "    cvx.sum(x[:,2]) >= 1,\n",
    "    cvx.sum(x[:,3]) >= 1,\n",
    "    cvx.sum(x[:,4]) >= 1,\n",
    "    cvx.sum(x[:,5]) >= 1,\n",
    "    cvx.sum(x[:,6]) >= 1,\n",
    "     \n",
    "    # garantizar simetría de la matriz\n",
    "    cvx.upper_tri(x) == cvx.upper_tri(x.T),\n",
    "\n",
    "    # garantizar que no hay redes aisaldas\n",
    "    cvx.sum(x) >= (7-1)*2 \n",
    "]\n",
    "\n",
    "P = cvx.Problem(Z,r)\n",
    "P.solve()\n",
    "xd=pd.DataFrame(np.round(x.value,0))\n",
    "a=[str(i) for i in range(1,len(c)+1)]\n",
    "xd.index = a\n",
    "xd.columns = a\n",
    "print(P.status)\n",
    "print(P.value)\n",
    "print(xd)"
   ]
  },
  {
   "attachments": {},
   "cell_type": "markdown",
   "metadata": {},
   "source": [
    "<h1>NewVeredas</h1>\n",
    "<img src=\"Imagenes/NewVeredas.png\" width=\"900\">"
   ]
  },
  {
   "attachments": {},
   "cell_type": "markdown",
   "metadata": {},
   "source": [
    "| De/Hacia| 1 | 2  | 3 | 4 | 5 | 6 | 7 | 8 | \n",
    "| :-:     |:-:|:-: |:-:|:-:|:-:|:-:|:-:|:-:| \n",
    "| 1 |       + | 8  | 7 | 10| + | + | + | + | \n",
    "| 2 |       8 | +  | 5 | + | 9 | + | + | + | \n",
    "| 3 |       7 | 5  | + | 4 | 10| 9 | 10| + | \n",
    "| 4 |       10| +  | 4 | + | + | + | 9 | + | \n",
    "| 5 |       + | 9  | 10| + | + | 4 | + | a | \n",
    "| 6 |       + | +  | 9 | + | 4 | + | 5 | 6 | \n",
    "| 7 |       + | +  | 10| 9 | + | 5 | + | b | \n",
    "| 8 |       + | +  | + | + | a | 6 | b | + | "
   ]
  },
  {
   "cell_type": "code",
   "execution_count": 27,
   "metadata": {},
   "outputs": [
    {
     "name": "stdout",
     "output_type": "stream",
     "text": [
      "optimal\n",
      "38.0\n",
      "     1    2    3    4    5    6    7    8\n",
      "1  0.0  0.0  1.0  0.0  0.0  0.0  0.0  0.0\n",
      "2  0.0  0.0  1.0  0.0  0.0  0.0  0.0  0.0\n",
      "3  1.0  1.0  0.0  1.0  0.0  0.0  0.0  0.0\n",
      "4  0.0  0.0  1.0  0.0  0.0  0.0  0.0  0.0\n",
      "5  0.0  0.0  0.0  0.0  0.0  1.0  0.0  0.0\n",
      "6  0.0  0.0  0.0  0.0  1.0  0.0  1.0  1.0\n",
      "7  0.0  0.0  0.0  0.0  0.0  1.0  0.0  1.0\n",
      "8  0.0  0.0  0.0  0.0  0.0  1.0  1.0  0.0\n"
     ]
    }
   ],
   "source": [
    "import cvxpy as cvx\n",
    "import numpy as np\n",
    "import pandas as pd\n",
    "# Variables de decisión\n",
    "x = cvx.Variable((8,8), boolean = True)\n",
    "a=8\n",
    "b=7\n",
    "# Función objetivo:\n",
    "c = [\n",
    "    [99999,8,7,10,99999,99999,99999,99999],\n",
    "    [8,99999,5,99999,9,99999,99999,99999],\n",
    "    [7,5,99999,4,10,9,10,99999],\n",
    "    [10,99999,4,99999,99999,99999,9,99999],\n",
    "    [99999,9,10,99999,99999,4,99999,a],\n",
    "    [99999,99999,9,99999,4,99999,5,6],\n",
    "    [99999,99999,10,9,99999,5,99999,b],\n",
    "    [99999,99999,99999,99999,a,6,b,99999]\n",
    "  ]\n",
    "\n",
    "Z = cvx.Minimize(cvx.sum(cvx.multiply(c,x)))/2\n",
    "\n",
    "# Restricciones\n",
    "r = [ \n",
    "    # todos los nodos actuan como demanda porque no deben estar aislados\n",
    "    cvx.sum(x[:,0]) >= 1,\n",
    "    cvx.sum(x[:,1]) >= 1,\n",
    "    cvx.sum(x[:,2]) >= 1,\n",
    "    cvx.sum(x[:,3]) >= 1,\n",
    "    cvx.sum(x[:,4]) >= 1,\n",
    "    cvx.sum(x[:,5]) >= 1,\n",
    "    cvx.sum(x[:,6]) >= 1,\n",
    "    cvx.sum(x[:,7]) >= 1,\n",
    "     \n",
    "    # garantizar simetría de la matriz\n",
    "    cvx.upper_tri(x) == cvx.upper_tri(x.T),\n",
    "\n",
    "    # garantizar que no hay redes aisaldas\n",
    "    cvx.sum(x) >= (8-1)*2 \n",
    "]\n",
    "\n",
    "P = cvx.Problem(Z,r)\n",
    "P.solve()\n",
    "xd=pd.DataFrame(np.round(x.value,0))\n",
    "a=[str(i) for i in range(1,len(c)+1)]\n",
    "xd.index = a\n",
    "xd.columns = a\n",
    "print(P.status)\n",
    "print(P.value)\n",
    "print(xd)"
   ]
  },
  {
   "attachments": {},
   "cell_type": "markdown",
   "metadata": {},
   "source": [
    "<h1>TIC</h1>\n",
    "<img src=\"Imagenes/TIC.png\" width=\"900\">"
   ]
  },
  {
   "attachments": {},
   "cell_type": "markdown",
   "metadata": {},
   "source": [
    "| De/Hacia| 1 | 2  | 3 | 4 | 5 | 6 | \n",
    "| :-:     |:-:|:-: |:-:|:-:|:-:|:-:| \n",
    "| 1 |       + | a  | 5 | 7 | 9 | + | \n",
    "| 2 |       a | +  | 6 | 4 | 3 | + | \n",
    "| 3 |       5 | 6  | + | 5 | + | 10| \n",
    "| 4 |       7 | 4  | 5 | + | 8 | b | \n",
    "| 5 |       9 | 3  | + | 8 | + | + | \n",
    "| 6 |       + | +  | 10| b | + | + |  "
   ]
  },
  {
   "cell_type": "code",
   "execution_count": 15,
   "metadata": {},
   "outputs": [
    {
     "name": "stdout",
     "output_type": "stream",
     "text": [
      "optimal\n",
      "16.0\n",
      "     1    2    3    4    5    6\n",
      "1  0.0  1.0  1.0  0.0  0.0  0.0\n",
      "2  1.0  0.0  0.0  1.0  1.0  0.0\n",
      "3  1.0  0.0  0.0  0.0  0.0  0.0\n",
      "4  0.0  1.0  0.0  0.0  0.0  1.0\n",
      "5  0.0  1.0  0.0  0.0  0.0  0.0\n",
      "6  0.0  0.0  0.0  1.0  0.0  0.0\n"
     ]
    }
   ],
   "source": [
    "import cvxpy as cvx\n",
    "import numpy as np\n",
    "import pandas as pd\n",
    "# Variables de decisión\n",
    "x = cvx.Variable((6,6), boolean = True)\n",
    "a=1\n",
    "b=3\n",
    "# Función objetivo:\n",
    "c = [\n",
    "    [99999,a,5,7,9,99999],\n",
    "    [a,99999,6,4,3,99999],\n",
    "    [5,6,99999,5,99999,10],\n",
    "    [7,4,5,99999,8,b],\n",
    "    [9,3,99999,8,99999,99999],\n",
    "    [99999,99999,10,b,99999,99999]\n",
    "  ]\n",
    "\n",
    "Z = cvx.Minimize(cvx.sum(cvx.multiply(c,x)))/2\n",
    "\n",
    "# Restricciones\n",
    "r = [ \n",
    "    # todos los nodos actuan como demanda porque no deben estar aislados\n",
    "    cvx.sum(x[:,0]) >= 1,\n",
    "    cvx.sum(x[:,1]) >= 1,\n",
    "    cvx.sum(x[:,2]) >= 1,\n",
    "    cvx.sum(x[:,3]) >= 1,\n",
    "    cvx.sum(x[:,4]) >= 1,\n",
    "    cvx.sum(x[:,5]) >= 1,\n",
    "\n",
    "     \n",
    "    # garantizar simetría de la matriz\n",
    "    cvx.upper_tri(x) == cvx.upper_tri(x.T),\n",
    "\n",
    "    # garantizar que no hay redes aisaldas\n",
    "    cvx.sum(x) >= (6-1)*2 \n",
    "]\n",
    "\n",
    "P = cvx.Problem(Z,r)\n",
    "P.solve()\n",
    "xd=pd.DataFrame(np.round(x.value,0))\n",
    "a=[str(i) for i in range(1,len(c)+1)]\n",
    "xd.index = a\n",
    "xd.columns = a\n",
    "print(P.status)\n",
    "print(P.value)\n",
    "print(xd)"
   ]
  }
 ],
 "metadata": {
  "kernelspec": {
   "display_name": "Python 3",
   "language": "python",
   "name": "python3"
  },
  "language_info": {
   "codemirror_mode": {
    "name": "ipython",
    "version": 3
   },
   "file_extension": ".py",
   "mimetype": "text/x-python",
   "name": "python",
   "nbconvert_exporter": "python",
   "pygments_lexer": "ipython3",
   "version": "3.11.0"
  },
  "orig_nbformat": 4
 },
 "nbformat": 4,
 "nbformat_minor": 2
}
