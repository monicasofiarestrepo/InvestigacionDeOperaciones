{
 "cells": [
  {
   "cell_type": "code",
   "execution_count": 1,
   "metadata": {},
   "outputs": [],
   "source": [
    "import cvxpy as cvx\n",
    "import numpy as np"
   ]
  },
  {
   "attachments": {},
   "cell_type": "markdown",
   "metadata": {},
   "source": [
    "# Servidores de correo electrónico"
   ]
  },
  {
   "attachments": {},
   "cell_type": "markdown",
   "metadata": {},
   "source": [
    "<img src=\"IO1.png\">"
   ]
  },
  {
   "attachments": {},
   "cell_type": "markdown",
   "metadata": {},
   "source": [
    "Matriz:\n",
    "\n",
    "| De/Hacia| O1 | O2  | T1 | T2 | D1 | D2 | D3 |\n",
    "| :-: | :-: | :-:  | :-: | :-: | :-: | :-: | :-: |\n",
    "| O1 | 9999 | 9999 | 3 | 4 | 9999 | 9999 | 9999 |\n",
    "| O2 | 9999 | 9999 | 2 | 5 | 9999 | 9999 | 9999 |\n",
    "| T1 | 9999| 9999| 9999 | 7 | 8 | 6 | 9999 |\n",
    "| T2 | 9999 | 9999|  9999 | 9999 | 9999 | 4 | 9 |\n",
    "| D1 | 9999 | 9999 | 9999 | 9999 | 9999 | 5 | 9999 |\n",
    "| D2 | 9999 | 9999 | 9999 | 9999 | 9999 | 9999 | 3 |\n",
    "| D3 | 9999 | 9999 | 9999 | 9999 | 9999 | 9999 | 9999 |\n"
   ]
  },
  {
   "cell_type": "code",
   "execution_count": 16,
   "metadata": {},
   "outputs": [
    {
     "name": "stdout",
     "output_type": "stream",
     "text": [
      "optimal\n",
      "20700.0\n",
      "[[   0.    0.    0. 1000.    0.    0.    0.]\n",
      " [   0.    0. 1200.    0.    0.    0.    0.]\n",
      " [   0.    0.    0.    0.  800.  400.    0.]\n",
      " [   0.    0.    0.    0.    0. 1000.    0.]\n",
      " [   0.    0.    0.    0.    0.    0.    0.]\n",
      " [   0.    0.    0.    0.    0.    0.  500.]\n",
      " [   0.    0.    0.    0.    0.    0.    0.]]\n"
     ]
    }
   ],
   "source": [
    "# Variables de decisión\n",
    "x = cvx.Variable((7,7), nonneg=True)\n",
    "\n",
    "# Función objetivo\n",
    "c = [\n",
    "    [999999,999999,999999,999999,999999,999999,999999],\n",
    "    [999999,999999,999999,999999,999999,999999,999999],\n",
    "    [3,2,999999,999999,999999,999999,999999],\n",
    "    [4,5,7,999999,999999,999999,999999],\n",
    "    [999999,999999,8,999999,999999,999999,999999],\n",
    "    [999999,999999,6,4,5,999999,999999],\n",
    "    [999999,999999,999999,9,999999,3,999999],\n",
    "]\n",
    "\n",
    "Z = cvx.Minimize(cvx.sum(cvx.multiply(c,x)))\n",
    "\n",
    "# Restricciones\n",
    "r = [\n",
    "    # de oferta O1 y O2\n",
    "    cvx.sum(x[0,:]) <= 1000,\n",
    "    cvx.sum(x[1,:]) <= 1200,\n",
    "  \n",
    "     \n",
    "    # de demanda D3 \n",
    "    cvx.sum(x[:,6]) >= 500,\n",
    "\n",
    "   \n",
    "    # de transbordo T1, T2, D1 y D2\n",
    "    cvx.sum(x[:,2]) - cvx.sum(x[2,:]) >= 0,\n",
    "    cvx.sum(x[:,3]) - cvx.sum(x[3,:]) >= 0,\n",
    "    cvx.sum(x[:,4]) - cvx.sum(x[4,:]) >= 800,\n",
    "    cvx.sum(x[:,5]) - cvx.sum(x[5,:]) >= 900,    \n",
    "  ]\n",
    "\n",
    "P = cvx.Problem(Z,r)\n",
    "P.solve()\n",
    "\n",
    "# impresiones\n",
    "print(P.status)\n",
    "print(np.round(P.value,0))\n",
    "print(np.round(x.value,0))"
   ]
  },
  {
   "attachments": {},
   "cell_type": "markdown",
   "metadata": {},
   "source": [
    "# Barriles de fuel oil "
   ]
  },
  {
   "attachments": {},
   "cell_type": "markdown",
   "metadata": {},
   "source": [
    "<img src=\"IO2.png\">"
   ]
  },
  {
   "attachments": {},
   "cell_type": "markdown",
   "metadata": {},
   "source": [
    "| De/Hacia| Ref.1 | Ref.2  | cc.1 | cc.2 | Bari | Porto | Vita | Siena |\n",
    "| :-: | :-: | :-:  | :-: | :-: | :-: | :-: | :-: | :-: |\n",
    "| Ref.1 | 9999 | 9999 | 59 | 38 | 9999 | 9999 | 9999 | 9999 |\n",
    "| Ref.2 | 9999 | 9999 | 17 | 10 | 9999 | 9999 | 9999 | 9999 |\n",
    "| cc.1 | 9999| 9999| 9999 | 9999 | 15 | 68 | 70 | 70 |\n",
    "| cc.2 | 9999 | 9999|  9999 | 9999 | 61 | 47 | 12 | 52 |\n",
    "| Bari | 9999 | 9999 | 9999 | 9999 | 9999 | 9999 | 9999 | 9999 |\n",
    "| Porto | 9999 | 9999 | 9999 | 9999 | 9999 | 9999 | 9999 | 9999 |\n",
    "| Vita | 9999 | 9999 | 9999 | 9999 | 9999 | 9999 | 9999 | 9999 |\n",
    "| Siena | 9999 | 9999 | 9999 | 9999 | 9999 | 9999 | 9999 | 9999 |"
   ]
  },
  {
   "cell_type": "code",
   "execution_count": 8,
   "metadata": {},
   "outputs": [
    {
     "name": "stdout",
     "output_type": "stream",
     "text": [
      "optimal\n",
      "58050.0\n",
      "[[  0.   0.   0. 600.   0.   0.   0.   0.]\n",
      " [  0.   0. 200. 200.   0.   0.   0.   0.]\n",
      " [  0.   0.   0.   0. 200.   0.   0.   0.]\n",
      " [  0.   0.   0.   0.   0. 150. 350. 300.]\n",
      " [  0.   0.   0.   0.   0.   0.   0.   0.]\n",
      " [  0.   0.   0.   0.   0.   0.   0.   0.]\n",
      " [  0.   0.   0.   0.   0.   0.   0.   0.]\n",
      " [  0.   0.   0.   0.   0.   0.   0.   0.]]\n"
     ]
    }
   ],
   "source": [
    "# Variables de decisión\n",
    "x = cvx.Variable((8,8), nonneg=True)\n",
    "\n",
    "# Función objetivo\n",
    "c = [\n",
    "    [999999,999999,999999,999999,999999,999999,999999,999999],\n",
    "    [999999,999999,999999,999999,999999,999999,999999,999999],\n",
    "    [59,17,999999,999999,999999,999999,999999,999999],\n",
    "    [38,10,999999,999999,999999,999999,999999,999999],\n",
    "    [999999,999999,15,61,999999,999999,999999,999999],\n",
    "    [999999,999999,68,47,999999,999999,999999,999999],\n",
    "    [999999,999999,70,12,999999,999999,999999,999999],\n",
    "    [999999,999999,70,52,999999,999999,999999,999999],\n",
    "]\n",
    "\n",
    "Z = cvx.Minimize(cvx.sum(cvx.multiply(c,x)))\n",
    "\n",
    "# Restricciones\n",
    "r = [\n",
    "    # de oferta\n",
    "    cvx.sum(x[0,:]) <= 600,\n",
    "    cvx.sum(x[1,:]) <= 400,\n",
    "     \n",
    "    # de demanda\n",
    "    cvx.sum(x[:,4]) >= 200,\n",
    "    cvx.sum(x[:,5]) >= 150,\n",
    "    cvx.sum(x[:,6]) >= 350,\n",
    "    cvx.sum(x[:,7]) >= 300, \n",
    "     \n",
    "    # de transbordo\n",
    "    cvx.sum(x[:,2]) - cvx.sum(x[2,:]) >= 0,\n",
    "    cvx.sum(x[:,3]) - cvx.sum(x[3,:]) >= 0,\n",
    "  \n",
    "  ]\n",
    "\n",
    "P = cvx.Problem(Z,r)\n",
    "P.solve()\n",
    "\n",
    "# impresiones\n",
    "print(P.status)\n",
    "print(np.round(P.value,0))\n",
    "print(np.round(x.value,0))"
   ]
  },
  {
   "attachments": {},
   "cell_type": "markdown",
   "metadata": {},
   "source": [
    "# Galones de combustible"
   ]
  },
  {
   "attachments": {},
   "cell_type": "markdown",
   "metadata": {},
   "source": [
    "<img src=\"IO3.png\">"
   ]
  },
  {
   "attachments": {},
   "cell_type": "markdown",
   "metadata": {},
   "source": [
    "| De/Hacia| 1 | 2  | 3 | 4 | 5 | 6 | 7 |\n",
    "| :-: | :-: | :-:  | :-: | :-: | :-: | :-: | :-: |\n",
    "| 1 | 9999 | 9999 | 3 | 9999 | 9999 | 9999 | 20 |\n",
    "| 2 | 9999 | 9999 | 9 | 9999 | 9999 | 30 | 9999 |\n",
    "| 3 | 9999 | 9999| 9999 | 9999 | 10 | 9999 | 40 |\n",
    "| 4 | 9999 | 9999|  9999 | 9999 | 4 | 9999 | 8 |\n",
    "| 5 | 9999 | 9999 | 10 | 4 | 9999 | 2 | 9999 |\n",
    "| 6 | 9999 | 9999 | 9999 | 9999 | 9999 | 9999 | 9999 |\n",
    "| 7 | 9999 | 9999 | 9999 | 9999 | 9999 | 9999 | 9999 |\n"
   ]
  },
  {
   "cell_type": "code",
   "execution_count": 12,
   "metadata": {},
   "outputs": [
    {
     "name": "stdout",
     "output_type": "stream",
     "text": [
      "optimal\n",
      "266000.0\n",
      "[[   0.    0.    0.    0.    0.    0. 5000.]\n",
      " [   0.    0. 6000.    0.    0.    0.    0.]\n",
      " [   0.    0.    0.    0. 6000.    0.    0.]\n",
      " [   0.    0.    0.    0.    0.    0. 4000.]\n",
      " [   0.    0.    0. 4000.    0. 2000.    0.]\n",
      " [   0.    0.    0.    0.    0.    0.    0.]\n",
      " [   0.    0.    0.    0.    0.    0.    0.]]\n"
     ]
    }
   ],
   "source": [
    "# Variables de decisión\n",
    "x = cvx.Variable((7,7), nonneg=True)\n",
    "\n",
    "# Función objetivo\n",
    "c = [\n",
    "    [999999,999999,999999,999999,999999,999999,999999],\n",
    "    [999999,999999,999999,999999,999999,999999,999999],\n",
    "    [3,9,999999,999999,10,999999,999999],\n",
    "    [999999,999999,999999,999999,4,999999,999999],\n",
    "    [999999,999999,10,4,999999,999999,999999],\n",
    "    [999999,30,999999,999999,2,999999,999999],\n",
    "    [20,999999,40,8,999999,999999,999999],\n",
    "]\n",
    "\n",
    "Z = cvx.Minimize(cvx.sum(cvx.multiply(c,x)))\n",
    "\n",
    "# Restricciones\n",
    "r = [\n",
    "    # de oferta\n",
    "    cvx.sum(x[0,:]) <= 5000,\n",
    "    cvx.sum(x[1,:]) <= 6000,\n",
    "     \n",
    "    # de demanda\n",
    "    cvx.sum(x[:,5]) >= 2000,\n",
    "    cvx.sum(x[:,6]) >= 9000,\n",
    "     \n",
    "    # de transbordo\n",
    "    cvx.sum(x[:,2]) - cvx.sum(x[2,:]) >= 0,\n",
    "    cvx.sum(x[:,3]) - cvx.sum(x[3,:]) >= 0,\n",
    "    cvx.sum(x[:,4]) - cvx.sum(x[4,:]) >= 0,\n",
    "  ]\n",
    "\n",
    "P = cvx.Problem(Z,r)\n",
    "P.solve()\n",
    "\n",
    "# impresiones\n",
    "print(P.status)\n",
    "print(np.round(P.value,0))\n",
    "print(np.round(x.value,0))"
   ]
  },
  {
   "attachments": {},
   "cell_type": "markdown",
   "metadata": {},
   "source": [
    "# Red de transporte Minas "
   ]
  },
  {
   "attachments": {},
   "cell_type": "markdown",
   "metadata": {},
   "source": [
    "<img src=\"IO4.png\">"
   ]
  },
  {
   "attachments": {},
   "cell_type": "markdown",
   "metadata": {},
   "source": [
    "| De/Hacia| M1 | M2  | cc1 | cc2 | D1 | D2 | D3 |\n",
    "| :-: | :-: | :-:  | :-: | :-: | :-: | :-: | :-: |\n",
    "| M1 | 9999 | 9999 | 14 | 9 | 9999 | 9999 | 9999 |\n",
    "| M2 | 9999 | 9999 | 3 | 2 | 9999 | 9999 | 9999 |\n",
    "| cc1 | 9999 | 9999 | 9999 | 0 | 3 | 14 | 9999 |\n",
    "| cc2 | 9999 | 9999|  9999 | 9999 | 9999 | 11 | 2 |\n",
    "| D1 | 9999 | 9999 | 9999 | 9999 | 9999 | 12 | 9999 |\n",
    "| D2 | 9999 | 9999 | 9999 | 9999 | 9999 | 9999 | 13 |\n",
    "| D3 | 9999 | 9999 | 9999 | 9999 | 9999 | 9999 | 9999 |"
   ]
  },
  {
   "cell_type": "code",
   "execution_count": 14,
   "metadata": {},
   "outputs": [
    {
     "name": "stdout",
     "output_type": "stream",
     "text": [
      "optimal\n",
      "25500.0\n",
      "[[   0.    0.    0. 1000.    0.    0.    0.]\n",
      " [   0.    0.  800.  400.    0.    0.    0.]\n",
      " [   0.    0.    0.    0.  800.    0.    0.]\n",
      " [   0.    0.    0.    0.    0.  900.  500.]\n",
      " [   0.    0.    0.    0.    0.    0.    0.]\n",
      " [   0.    0.    0.    0.    0.    0.    0.]\n",
      " [   0.    0.    0.    0.    0.    0.    0.]]\n"
     ]
    }
   ],
   "source": [
    "# Variables de decisión\n",
    "x = cvx.Variable((7,7), nonneg=True)\n",
    "\n",
    "# Función objetivo\n",
    "c = [\n",
    "    [999999,999999,999999,999999,999999,999999,999999],\n",
    "    [999999,999999,999999,999999,999999,999999,999999],\n",
    "    [14,3,999999,999999,999999,999999,999999],\n",
    "    [9,2,0,999999,999999,999999,999999],\n",
    "    [999999,999999,3,999999,999999,999999,999999],\n",
    "    [999999,999999,14,11,12,999999,999999],\n",
    "    [999999,999999,999999,2,999999,13,999999],\n",
    "]\n",
    "\n",
    "Z = cvx.Minimize(cvx.sum(cvx.multiply(c,x)))\n",
    "\n",
    "# Restricciones\n",
    "r = [\n",
    "    # de oferta\n",
    "    cvx.sum(x[0,:]) <= 1000,\n",
    "    cvx.sum(x[1,:]) <= 1200,\n",
    "     \n",
    "    # de demanda\n",
    "    cvx.sum(x[:,6]) >= 500,\n",
    "     \n",
    "    # de transbordo\n",
    "    cvx.sum(x[:,2]) - cvx.sum(x[2,:]) >= 0,\n",
    "    cvx.sum(x[:,3]) - cvx.sum(x[3,:]) >= 0,\n",
    "    cvx.sum(x[:,4]) - cvx.sum(x[4,:]) >= 800,\n",
    "    cvx.sum(x[:,5]) - cvx.sum(x[5,:]) >= 900,  \n",
    "  ]\n",
    "\n",
    "P = cvx.Problem(Z,r)\n",
    "P.solve()\n",
    "\n",
    "# impresiones\n",
    "print(P.status)\n",
    "print(np.round(P.value,0))\n",
    "print(np.round(x.value,0))"
   ]
  }
 ],
 "metadata": {
  "kernelspec": {
   "display_name": "Python 3",
   "language": "python",
   "name": "python3"
  },
  "language_info": {
   "codemirror_mode": {
    "name": "ipython",
    "version": 3
   },
   "file_extension": ".py",
   "mimetype": "text/x-python",
   "name": "python",
   "nbconvert_exporter": "python",
   "pygments_lexer": "ipython3",
   "version": "3.10.6"
  },
  "orig_nbformat": 4
 },
 "nbformat": 4,
 "nbformat_minor": 2
}
