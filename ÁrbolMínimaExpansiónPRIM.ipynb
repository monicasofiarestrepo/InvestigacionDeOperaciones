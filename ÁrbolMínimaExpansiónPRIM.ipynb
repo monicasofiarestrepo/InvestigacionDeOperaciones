{
  "nbformat": 4,
  "nbformat_minor": 0,
  "metadata": {
    "colab": {
      "provenance": [],
      "include_colab_link": true
    },
    "kernelspec": {
      "name": "python3",
      "display_name": "Python 3"
    },
    "language_info": {
      "name": "python"
    }
  },
  "cells": [
    {
      "cell_type": "markdown",
      "metadata": {
        "id": "view-in-github",
        "colab_type": "text"
      },
      "source": [
        "<a href=\"https://colab.research.google.com/github/monicasofiarestrepo/InvestigacionDeOperaciones/blob/main/%C3%81rbolM%C3%ADnimaExpansi%C3%B3nPRIM.ipynb\" target=\"_parent\"><img src=\"https://colab.research.google.com/assets/colab-badge.svg\" alt=\"Open In Colab\"/></a>"
      ]
    },
    {
      "cell_type": "code",
      "execution_count": null,
      "metadata": {
        "id": "rOcsXpxc5pid"
      },
      "outputs": [],
      "source": [
        "import networkx as nx"
      ]
    },
    {
      "cell_type": "markdown",
      "source": [
        "# Veredas 5 casas"
      ],
      "metadata": {
        "id": "tum9u8R52LYM"
      }
    },
    {
      "cell_type": "markdown",
      "source": [
        "| De/Hacia| 1 | 2  | 3 | 4 | 5 |\n",
        "| :-: | :-: | :-:  | :-: | :-: | :-: |\n",
        "| 1 |9999 | a | b | 9999 | c |\n",
        "| 2 | a | 9999 | e | k | f |\n",
        "| 3 | b | e | 9999 | g | d |\n",
        "| 4 | 9999 | k | g | 9999 | h |\n",
        "| 5 | c | f | d | h | 9999 |\n",
        "\n"
      ],
      "metadata": {
        "id": "XYUxhLgruOQL"
      }
    },
    {
      "cell_type": "code",
      "source": [
        "a = 29\n",
        "b = 18\n",
        "c = 2\n",
        "d = 3\n",
        "e = 2\n",
        "f = 3\n",
        "g = 11\n",
        "h = 14\n",
        "k = 7\n",
        "\n",
        "# Crear un grafo vacío\n",
        "G = nx.Graph()\n",
        "\n",
        "# Crear los nodos del grafo\n",
        "G.add_nodes_from([1,2,3,4,5])\n",
        "\n",
        "# Crear los enlaces\n",
        "G.add_edge(1, 2, weight = a)\n",
        "G.add_edge(1, 3, weight = b)\n",
        "G.add_edge(1, 5, weight = c)\n",
        "G.add_edge(2, 3, weight = e)\n",
        "G.add_edge(2, 4, weight = k)\n",
        "G.add_edge(2, 5, weight = f)\n",
        "G.add_edge(3, 4, weight = g)\n",
        "G.add_edge(3, 5, weight = d)\n",
        "G.add_edge(4, 5, weight = h)\n",
        "\n",
        "# calcular el árbol de mínima expansión\n",
        "arbol = nx.minimum_spanning_tree(G)\n",
        "\n",
        "costo_total = 0\n",
        "for i, j, weight in arbol.edges(data='weight'):\n",
        "    costo_total += weight\n",
        "    print(f\"Arista: {i} - {j}, Peso: {weight}\")\n",
        "\n",
        "print(f\"Costo total de conectar las veredas: {costo_total}\")\n"
      ],
      "metadata": {
        "colab": {
          "base_uri": "https://localhost:8080/"
        },
        "id": "-tao0E2Xvccq",
        "outputId": "f3d65fb7-df57-460b-f481-ac05ec208313"
      },
      "execution_count": null,
      "outputs": [
        {
          "output_type": "stream",
          "name": "stdout",
          "text": [
            "Arista: 1 - 5, Peso: 2\n",
            "Arista: 2 - 3, Peso: 2\n",
            "Arista: 2 - 5, Peso: 3\n",
            "Arista: 2 - 4, Peso: 7\n",
            "Costo total de conectar las veredas: 14\n"
          ]
        }
      ]
    },
    {
      "cell_type": "markdown",
      "source": [
        "# Lotes de terreno"
      ],
      "metadata": {
        "id": "KboRH12y3o98"
      }
    },
    {
      "cell_type": "markdown",
      "source": [
        "| De/Hacia| 1 | 2  | 3 | 4 | 5 | 6 |7 |\n",
        "| :-: | :-: | :-:  | :-: | :-: | :-: |:-: |:-: |\n",
        "| 1 |9999 | 3 | 1 | 9999 | 9999 | 9999 |9999 |\n",
        "| 2 | 3 | 9999 | 8 | 0 | 5 | 9999 |9999 |\n",
        "| 3 | 1 | 8 | 9999 | 9999 | 9999 |9999 |9999 |\n",
        "| 4 | 9999 | 0 | 9999 | 9999 | a |9999 |9 |\n",
        "| 5 | 9999 | 5 | 9999 | a | 9999 |1 |2 |\n",
        "| 6 | 9999 | 9999 | 9999 | 9999 | 1 |9999 | b |\n",
        "| 7 | 9999 | 9999 | 9999 | 9 | 2 |b |9999 |\n"
      ],
      "metadata": {
        "id": "Ex1O0Jal4Jwq"
      }
    },
    {
      "cell_type": "code",
      "source": [
        "a = 3\n",
        "b = 4\n",
        "\n",
        "# Crear un grafo vacío\n",
        "G = nx.Graph()\n",
        "\n",
        "# Crear los nodos del grafo\n",
        "G.add_nodes_from([1,2,3,4,5,6,7])\n",
        "\n",
        "# Crear los enlaces\n",
        "G.add_edge(1, 2, weight = 3)\n",
        "G.add_edge(1, 3, weight = 1)\n",
        "G.add_edge(2, 3, weight = 8)\n",
        "G.add_edge(2, 4, weight = 0)\n",
        "G.add_edge(2, 5, weight = 5)\n",
        "G.add_edge(4, 5, weight = a)\n",
        "G.add_edge(4, 7, weight = 9)\n",
        "G.add_edge(5, 6, weight = 1)\n",
        "G.add_edge(5, 7, weight = 2)\n",
        "G.add_edge(6, 7, weight = b)\n",
        "\n",
        "# calcular el árbol de mínima expansión\n",
        "arbol = nx.minimum_spanning_tree(G)\n",
        "\n",
        "costo_total = 0\n",
        "for i, j, weight in arbol.edges(data='weight'):\n",
        "    costo_total += weight\n",
        "    print(f\"Arista: {i} - {j}, Peso: {weight}\")\n",
        "\n",
        "print(f\"Costo total de conectar las veredas: {costo_total}\")"
      ],
      "metadata": {
        "colab": {
          "base_uri": "https://localhost:8080/"
        },
        "id": "c0iSlTMn4KVi",
        "outputId": "a05a441e-abdf-4a7c-83b9-2871371dc459"
      },
      "execution_count": null,
      "outputs": [
        {
          "output_type": "stream",
          "name": "stdout",
          "text": [
            "Arista: 1 - 3, Peso: 1\n",
            "Arista: 1 - 2, Peso: 3\n",
            "Arista: 2 - 4, Peso: 0\n",
            "Arista: 4 - 5, Peso: 3\n",
            "Arista: 5 - 6, Peso: 1\n",
            "Arista: 5 - 7, Peso: 2\n",
            "Costo total de conectar las veredas: 10\n"
          ]
        }
      ]
    },
    {
      "cell_type": "markdown",
      "source": [
        "# Veredas (8)\n"
      ],
      "metadata": {
        "id": "uEOZSIa44obC"
      }
    },
    {
      "cell_type": "markdown",
      "source": [
        "| De/Hacia| 1 | 2  | 3 | 4 | 5 | 6 |7 |8|\n",
        "| :-: | :-: | :-:  | :-: | :-: | :-: |:-: |:-: |:-: |\n",
        "| 1 |9999 | 8 | 7 | 10 | 9999 | 9999 |9999 | 9999 |\n",
        "| 2 | 8 | 9999 | 5 | 9999 | 9 | 9999 |9999 | 9999 |\n",
        "| 3 | 7 | 5 | 9999 | 4 | 10 | 9 |10 | 9999 |\n",
        "| 4 | 10 | 9999 | 4 | 9999 | 9999 | 9999 |9 | 9999 |\n",
        "| 5 | 9999 | 9 | 10 | 9999 | 9999 | 4 |9999 | a |\n",
        "| 6 | 9999 | 9999 | 9 | 9999 | 4 | 9999 |5 | 6 |\n",
        "| 7 | 9999 | 9999 | 10 | 9 | 9999 | 5 |9999 | b |\n",
        "| 8 | 9999 | 9999 | 9999 | 9999 | a | 6 |b | 9999 |"
      ],
      "metadata": {
        "id": "kGtvb59G5BgK"
      }
    },
    {
      "cell_type": "code",
      "source": [
        "a = 8\n",
        "b = 7\n",
        "\n",
        "# Crear un grafo vacío\n",
        "G = nx.Graph()\n",
        "\n",
        "# Crear los nodos del grafo\n",
        "G.add_nodes_from([1,2,3,4,5,6,7,8])\n",
        "\n",
        "# Crear los enlaces\n",
        "G.add_edge(1, 2, weight = 8)\n",
        "G.add_edge(1, 3, weight = 7)\n",
        "G.add_edge(1, 4, weight = 10)\n",
        "G.add_edge(2, 3, weight = 5)\n",
        "G.add_edge(2, 5, weight = 9)\n",
        "G.add_edge(3, 4, weight = 4)\n",
        "G.add_edge(3, 5, weight = 10)\n",
        "G.add_edge(3, 6, weight = 9)\n",
        "G.add_edge(3, 7, weight = 10)\n",
        "G.add_edge(4, 7, weight = 9)\n",
        "G.add_edge(5, 6, weight = 4)\n",
        "G.add_edge(5, 8, weight = a)\n",
        "G.add_edge(6, 7, weight = 5)\n",
        "G.add_edge(6, 8, weight = 6)\n",
        "G.add_edge(7, 8, weight = b)\n",
        "\n",
        "\n",
        "# calcular el árbol de mínima expansión\n",
        "arbol = nx.minimum_spanning_tree(G)\n",
        "\n",
        "costo_total = 0\n",
        "for i, j, weight in arbol.edges(data='weight'):\n",
        "    costo_total += weight\n",
        "    print(f\"Arista: {i} - {j}, Peso: {weight}\")\n",
        "\n",
        "print(f\"Costo total de conectar las veredas: {costo_total}\")"
      ],
      "metadata": {
        "colab": {
          "base_uri": "https://localhost:8080/"
        },
        "id": "9UqDimfu5C9K",
        "outputId": "e0644f8d-3538-4ca3-9688-71a90b6ed8ae"
      },
      "execution_count": null,
      "outputs": [
        {
          "output_type": "stream",
          "name": "stdout",
          "text": [
            "Arista: 1 - 3, Peso: 7\n",
            "Arista: 2 - 3, Peso: 5\n",
            "Arista: 2 - 5, Peso: 9\n",
            "Arista: 3 - 4, Peso: 4\n",
            "Arista: 5 - 6, Peso: 4\n",
            "Arista: 6 - 7, Peso: 5\n",
            "Arista: 6 - 8, Peso: 6\n",
            "Costo total de conectar las veredas: 40\n"
          ]
        }
      ]
    },
    {
      "cell_type": "markdown",
      "source": [
        "# Mintic"
      ],
      "metadata": {
        "id": "Xff-_Irt5D8L"
      }
    },
    {
      "cell_type": "markdown",
      "source": [
        "| De/Hacia| 1 | 2  | 3 | 4 | 5 | 6 |\n",
        "| :-: | :-: | :-:  | :-: | :-: | :-: |:-: |\n",
        "| 1 |9999 | a |5 |7 | 9 | 9999 |\n",
        "| 2 | a | 9999 |6 | 4 | 3 | 9999 |\n",
        "| 3 | 5 | 6 |9999 | 5 | 9999 | 10 |\n",
        "| 4 | 7 | 4 |5 | 9999 | 8 | b |\n",
        "| 5 | 9 | 3 |9999 | 8 | 9999 | 9999 |\n",
        "| 6 | 9999 | 9999 |10 | b | 9999 | 9999 |\n"
      ],
      "metadata": {
        "id": "ZYLTvR0P5GEy"
      }
    },
    {
      "cell_type": "code",
      "source": [
        "a = 3\n",
        "b = 3\n",
        "\n",
        "# Crear un grafo vacío\n",
        "G = nx.Graph()\n",
        "\n",
        "# Crear los nodos del grafo\n",
        "G.add_nodes_from([1,2,3,4,5,6])\n",
        "\n",
        "# Crear los enlaces\n",
        "G.add_edge(1, 2, weight = a)\n",
        "G.add_edge(1, 3, weight = 5)\n",
        "G.add_edge(1, 4, weight = 7)\n",
        "G.add_edge(1, 5, weight = 9)\n",
        "G.add_edge(2, 3, weight = 6)\n",
        "G.add_edge(2, 4, weight = 4)\n",
        "G.add_edge(2, 5, weight = 3)\n",
        "G.add_edge(3, 4, weight = 5)\n",
        "G.add_edge(3, 6, weight = 10)\n",
        "G.add_edge(4, 5, weight = 8)\n",
        "G.add_edge(4, 6, weight = b)\n",
        "\n",
        "# calcular el árbol de mínima expansión\n",
        "arbol = nx.minimum_spanning_tree(G)\n",
        "\n",
        "costo_total = 0\n",
        "for i, j, weight in arbol.edges(data='weight'):\n",
        "    costo_total += weight\n",
        "    print(f\"Arista: {i} - {j}, Peso: {weight}\")\n",
        "\n",
        "print(f\"Costo total de conectar las veredas: {costo_total}\")\n"
      ],
      "metadata": {
        "colab": {
          "base_uri": "https://localhost:8080/"
        },
        "id": "ABJoCMh95Gfj",
        "outputId": "a7b5d926-bef9-4ba0-b249-1f6f9af392c5"
      },
      "execution_count": null,
      "outputs": [
        {
          "output_type": "stream",
          "name": "stdout",
          "text": [
            "Arista: 1 - 2, Peso: 3\n",
            "Arista: 1 - 3, Peso: 5\n",
            "Arista: 2 - 5, Peso: 3\n",
            "Arista: 2 - 4, Peso: 4\n",
            "Arista: 4 - 6, Peso: 3\n",
            "Costo total de conectar las veredas: 18\n"
          ]
        }
      ]
    }
  ]
}