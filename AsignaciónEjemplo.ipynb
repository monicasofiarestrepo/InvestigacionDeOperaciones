{
  "nbformat": 4,
  "nbformat_minor": 0,
  "metadata": {
    "colab": {
      "provenance": [],
      "include_colab_link": true
    },
    "kernelspec": {
      "name": "python3",
      "display_name": "Python 3"
    },
    "language_info": {
      "name": "python"
    }
  },
  "cells": [
    {
      "cell_type": "markdown",
      "metadata": {
        "id": "view-in-github",
        "colab_type": "text"
      },
      "source": [
        "<a href=\"https://colab.research.google.com/github/monicasofiarestrepo/InvestigacionDeOperaciones/blob/main/Untitled0.ipynb\" target=\"_parent\"><img src=\"https://colab.research.google.com/assets/colab-badge.svg\" alt=\"Open In Colab\"/></a>"
      ]
    },
    {
      "cell_type": "code",
      "execution_count": null,
      "metadata": {
        "id": "zKPA2R0yqkbY"
      },
      "outputs": [],
      "source": [
        "import cvxpy as cvx\n",
        "import numpy as np"
      ]
    },
    {
      "cell_type": "code",
      "source": [
        "#@title Asignación\n",
        "\n",
        "# Variables de decisión\n",
        "x = cvx.Variable((3,3), boolean = True)\n",
        "\n",
        "# Función objetivo\n",
        "c = [\n",
        "    [10,9,6],\n",
        "    [15,18,14],\n",
        "    [9,5,3]\n",
        "    ]\n",
        "\n",
        "Z = cvx.Minimize(cvx.sum(cvx.multiply(c,x)))\n",
        "\n",
        "# Restricciones\n",
        "r = [\n",
        "    # De oferta:\n",
        "     cvx.sum(x[0,:]) <= 1,\n",
        "     cvx.sum(x[1,:]) <= 1,\n",
        "     cvx.sum(x[2,:]) <= 1,\n",
        "\n",
        "    # De demanda:\n",
        "     cvx.sum(x[:,0]) >= 1,\n",
        "     cvx.sum(x[:,1]) >= 1,\n",
        "     cvx.sum(x[:,2]) >= 1,\n",
        "]\n",
        "\n",
        "# Configurar el problema\n",
        "P = cvx.Problem(Z,r)\n",
        "\n",
        "# Solucionar\n",
        "P.solve()\n",
        "\n",
        "# Impresiones\n",
        "print(P.status)\n",
        "print(P.value)\n",
        "print(x.value)\n"
      ],
      "metadata": {
        "colab": {
          "base_uri": "https://localhost:8080/"
        },
        "id": "Oc0PosGfrCO7",
        "outputId": "e2d4f573-ef1e-4504-e313-7e8f20e8d81a"
      },
      "execution_count": null,
      "outputs": [
        {
          "output_type": "stream",
          "name": "stdout",
          "text": [
            "optimal\n",
            "26.0\n",
            "[[0. 1. 0.]\n",
            " [0. 0. 1.]\n",
            " [1. 0. 0.]]\n"
          ]
        }
      ]
    },
    {
      "cell_type": "code",
      "source": [
        "#@title Asignación\n",
        "\n",
        "# Variables de decisión\n",
        "x = cvx.Variable((4,3), boolean = True)\n",
        "\n",
        "# Función objetivo\n",
        "c = [\n",
        "    [10,9,6,0],\n",
        "    [15,18,14,0],\n",
        "    [9,5,3,0]\n",
        "    ]\n",
        "\n",
        "Z = cvx.Minimize(cvx.sum(cvx.multiply(c,x)))\n",
        "\n",
        "# Restricciones\n",
        "r = [\n",
        "    # De oferta:\n",
        "     cvx.sum(x[0,:]) <= 1,\n",
        "     cvx.sum(x[1,:]) <= 1,\n",
        "     cvx.sum(x[2,:]) <= 1,\n",
        "     cvx.sum(x[3,:]) <= 1,\n",
        "\n",
        "    # De demanda:\n",
        "     cvx.sum(x[:,0]) >= 1,\n",
        "     cvx.sum(x[:,1]) >= 1,\n",
        "     cvx.sum(x[:,2]) >= 2,\n",
        "]\n",
        "\n",
        "# Configurar el problema\n",
        "P = cvx.Problem(Z,r)\n",
        "\n",
        "# Solucionar\n",
        "P.solve()\n",
        "\n",
        "# Impresiones\n",
        "print(P.status)\n",
        "print(P.value)\n",
        "print(x.value)"
      ],
      "metadata": {
        "colab": {
          "base_uri": "https://localhost:8080/"
        },
        "id": "N5QUjW8gxqj9",
        "outputId": "fb70f3f1-4a32-451e-952f-e64b45e81c64"
      },
      "execution_count": null,
      "outputs": [
        {
          "output_type": "stream",
          "name": "stdout",
          "text": [
            "optimal\n",
            "18.0\n",
            "[[1. 0. 0.]\n",
            " [0. 0. 1.]\n",
            " [0. 0. 1.]\n",
            " [0. 1. 0.]]\n"
          ]
        }
      ]
    }
  ]
}
