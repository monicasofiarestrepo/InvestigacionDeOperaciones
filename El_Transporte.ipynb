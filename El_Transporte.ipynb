{
 "cells": [
  {
   "cell_type": "markdown",
   "metadata": {},
   "source": [
    "<h1>Problema plantas de produccion</h1>\n",
    "<img src=\"transporteSevillaSantander.png\">"
   ]
  },
  {
   "cell_type": "code",
   "execution_count": 2,
   "metadata": {},
   "outputs": [],
   "source": [
    "import cvxpy as cvx\n",
    "import numpy as np"
   ]
  },
  {
   "cell_type": "code",
   "execution_count": 7,
   "metadata": {},
   "outputs": [
    {
     "name": "stdout",
     "output_type": "stream",
     "text": [
      "var9\n",
      "minimize Sum([[2690. 5230. 2195.]\n",
      " [1965. 3465. 3365.]] @ var9, None, False)\n",
      "optimal\n",
      "2299875.0001551765\n",
      "[[ 25.   0. 275.]\n",
      " [300. 300.   0.]]\n"
     ]
    }
   ],
   "source": [
    "# Variables de decisión\n",
    "x = cvx.Variable((2,3), nonneg = True)\n",
    "\n",
    "# Función objetivo:\n",
    "\n",
    "c = [\n",
    "    [5*538 ,5*393],\n",
    "    [5*1046,5*693],\n",
    "    [5*439 ,5*673],\n",
    "]\n",
    "\n",
    "Z = cvx.Minimize(cvx.sum(cvx.multiply(c,x)))\n",
    "\n",
    "# Restricciones\n",
    "r = [\n",
    "    # oferta\n",
    "    cvx.sum(x[0,:]) <= 350,\n",
    "    cvx.sum(x[1,:]) <= 600,\n",
    "\n",
    "     \n",
    "     # demanda\n",
    "    cvx.sum(x[:,0]) >= 325,\n",
    "    cvx.sum(x[:,1]) >= 300,\n",
    "    cvx.sum(x[:,2]) >= 275,\n",
    "]\n",
    "\n",
    "# Configurar el problema\n",
    "P = cvx.Problem(Z,r)\n",
    "\n",
    "# Solucionar\n",
    "P.solve()\n",
    "\n",
    "print(P.status)\n",
    "print(P.value)\n",
    "print(np.round(x.value,0))"
   ]
  },
  {
   "attachments": {},
   "cell_type": "markdown",
   "metadata": {},
   "source": [
    "<h1>Problema Minas</h1>\n",
    "<img src=\"MInas-Centro.png\">"
   ]
  },
  {
   "cell_type": "code",
   "execution_count": 97,
   "metadata": {},
   "outputs": [
    {
     "name": "stdout",
     "output_type": "stream",
     "text": [
      "optimal\n",
      "146465.0\n",
      "[[25. 50.  0.  0.]\n",
      " [55.  0. 70.  0.]\n",
      " [ 0. 15.  0. 85.]]\n"
     ]
    }
   ],
   "source": [
    "#Variable de decision\n",
    "x=cvx.Variable((3,4),nonneg = True)\n",
    "\n",
    "#Funcion objetivo\n",
    "\n",
    "c = [\n",
    "    [484,449,890],\n",
    "    [564,658,542],\n",
    "    [778,324,538],\n",
    "    [793,704,596]\n",
    "]\n",
    "\n",
    "Z =  cvx.Minimize(cvx.sum(cvx.multiply(c,x)))\n",
    "#Restricciones\n",
    "\n",
    "r=[\n",
    "    #Oferta\n",
    "    cvx.sum(x[0,:])<=75,\n",
    "    cvx.sum(x[1,:])<=125,\n",
    "    cvx.sum(x[2,:])<=100,\n",
    "\n",
    "    #Demanda\n",
    "\n",
    "    cvx.sum(x[:,0])>=80,\n",
    "    cvx.sum(x[:,1])>=65,\n",
    "    cvx.sum(x[:,2])>=70,\n",
    "    cvx.sum(x[:,3])>=85\n",
    "]\n",
    "\n",
    "P = cvx.Problem(Z,r)\n",
    "P.solve()\n",
    "print(P.status)\n",
    "print(round(P.value,2))\n",
    "print(np.round(x.value,0))"
   ]
  },
  {
   "attachments": {},
   "cell_type": "markdown",
   "metadata": {},
   "source": [
    "<h1>Turbinas Eolicas</h1>\n",
    "<img src=\"Turbinas-Eolicas.png\">"
   ]
  },
  {
   "cell_type": "code",
   "execution_count": 118,
   "metadata": {},
   "outputs": [
    {
     "name": "stdout",
     "output_type": "stream",
     "text": [
      "[21.00000001]\n",
      "optimal\n",
      "13885.00001\n",
      "[[21.]\n",
      " [21.]\n",
      " [28.]\n",
      " [ 0.]]\n"
     ]
    }
   ],
   "source": [
    "#Variables de decision, o sea Generados producidos por mes\n",
    "x=cvx.Variable((4,1),nonneg=True)\n",
    "costos=[[190,239,179,253]]\n",
    "\n",
    "#Funcion objetivo\n",
    "DemandaAgosto=10\n",
    "DemandaSeptiembre=15\n",
    "DemandaOctubre=25\n",
    "DemandaNoviembre=20\n",
    "Z=cvx.Minimize(cvx.sum(cvx.multiply(costos,x)) +2*(DemandaAgosto + x[0] -DemandaAgosto + x[0] -DemandaSeptiembre + x[1] + x[2] -DemandaAgosto + x[0] -DemandaSeptiembre + x[1] -DemandaOctubre))\n",
    "\n",
    "#Restricciones\n",
    "\n",
    "r = [\n",
    "    #Oferta \n",
    "    x[0]<=21,\n",
    "    x[1]<=33,\n",
    "    x[2]<=28,\n",
    "    x[3]<=21,\n",
    "    #Demanda\n",
    "    x[0] >= DemandaAgosto,\n",
    "    x[1] -DemandaAgosto + x[0] >= DemandaSeptiembre,\n",
    "    x[2] -DemandaAgosto + x[0] -DemandaSeptiembre + x[1]>= DemandaOctubre,\n",
    "    x[3] + x[2] -DemandaAgosto + x[0] -DemandaSeptiembre + x[1] -DemandaOctubre >= 20,\n",
    "\n",
    "]\n",
    "\n",
    "#Configurar\n",
    "\n",
    "P=cvx.Problem(Z,r)\n",
    "\n",
    "#SOl\n",
    "P.solve()\n",
    "print(x[0].value)\n",
    "print(P.status)\n",
    "print(round(P.value,5))\n",
    "print(np.round(x.value,0))\n"
   ]
  },
  {
   "attachments": {},
   "cell_type": "markdown",
   "metadata": {},
   "source": [
    "<h1>Problema Distribucion de agua</h1>\n",
    "<img src=\"Agua.png\">"
   ]
  },
  {
   "cell_type": "code",
   "execution_count": 107,
   "metadata": {},
   "outputs": [
    {
     "name": "stdout",
     "output_type": "stream",
     "text": [
      "[[5. 2. 5. 3.]\n",
      " [3. 6. 6. 5.]\n",
      " [6. 1. 2. 4.]] @ var15553\n",
      "optimal\n",
      "210.0\n",
      "[[ 0. 20.  0. 10.]\n",
      " [30.  0.  0.  0.]\n",
      " [ 0. 50.  0.  0.]]\n"
     ]
    }
   ],
   "source": [
    "# Caso oferta=Demanda\n",
    "\n",
    "#Variable de decision\n",
    "x=cvx.Variable((3,4),nonneg = True)\n",
    "\n",
    "#Funcion objetivo\n",
    "\n",
    "c = [\n",
    "    [5,3,6],\n",
    "    [2,6,1],\n",
    "    [5,6,2],\n",
    "    [3,5,4]\n",
    "]\n",
    "\n",
    "Z =  cvx.Minimize(cvx.sum(cvx.multiply(c,x)))\n",
    "#Restricciones\n",
    "\n",
    "print(cvx.multiply(c,x))\n",
    "\n",
    "r=[\n",
    "    #Oferta\n",
    "    cvx.sum(x[0,:])<=50,\n",
    "    cvx.sum(x[1,:])<=60,\n",
    "    cvx.sum(x[2,:])<=50,\n",
    "\n",
    "    #Demanda\n",
    "\n",
    "    cvx.sum(x[:,0])>=30,\n",
    "    cvx.sum(x[:,1])>=70,\n",
    "    cvx.sum(x[:,2])>=0,\n",
    "    cvx.sum(x[:,3])>=10,\n",
    "    \n",
    "\n",
    "]\n",
    "\n",
    "P = cvx.Problem(Z,r)\n",
    "P.solve()\n",
    "print(P.status)\n",
    "print(round(P.value,2))\n",
    "print(np.round(x.value,0))"
   ]
  },
  {
   "cell_type": "code",
   "execution_count": 114,
   "metadata": {},
   "outputs": [
    {
     "name": "stdout",
     "output_type": "stream",
     "text": [
      "[[5. 5. 7. 1.]\n",
      " [3. 8. 6. 6.]\n",
      " [6. 1. 2. 4.]] @ var16462\n",
      "optimal\n",
      "360.0\n",
      "[[ 0. 20.  0. 30.]\n",
      " [60.  0.  0.  0.]\n",
      " [ 0. 50.  0.  0.]]\n"
     ]
    }
   ],
   "source": [
    "# Caso oferta>Demanda y se tienen gastar todos los recursos\n",
    "\n",
    "#Variable de decision\n",
    "x=cvx.Variable((3,4),nonneg = True)\n",
    "\n",
    "#Funcion objetivo\n",
    "\n",
    "c = [\n",
    "    [5,3,6],\n",
    "    [5,8,1],\n",
    "    [7,6,2],\n",
    "    [1,6,4]\n",
    "]\n",
    "\n",
    "Z =  cvx.Minimize(cvx.sum(cvx.multiply(c,x)))\n",
    "#Restricciones\n",
    "\n",
    "print(cvx.multiply(c,x))\n",
    "\n",
    "r=[\n",
    "    #Oferta\n",
    "    cvx.sum(x[0,:])==50,\n",
    "    cvx.sum(x[1,:])==60,\n",
    "    cvx.sum(x[2,:])==50,\n",
    "\n",
    "    #Demanda\n",
    "\n",
    "    cvx.sum(x[:,0])>=30,\n",
    "    cvx.sum(x[:,1])>=70,\n",
    "    cvx.sum(x[:,2])>=0,\n",
    "    cvx.sum(x[:,3])>=10,\n",
    "    \n",
    "    \n",
    "]\n",
    "\n",
    "P = cvx.Problem(Z,r)\n",
    "P.solve()\n",
    "print(P.status)\n",
    "print(round(P.value,2))\n",
    "print(np.round(x.value,0))"
   ]
  },
  {
   "cell_type": "code",
   "execution_count": 106,
   "metadata": {},
   "outputs": [
    {
     "name": "stdout",
     "output_type": "stream",
     "text": [
      "[[5. 2. 7. 3.]\n",
      " [3. 6. 6. 1.]\n",
      " [6. 1. 2. 4.]\n",
      " [0. 0. 0. 0.]] @ var15383\n",
      "optimal\n",
      "400.0\n",
      "[[ 0. 50.  0.  0.]\n",
      " [30.  0. 20. 10.]\n",
      " [ 0. 20. 30.  0.]\n",
      " [ 0.  0. 40.  0.]]\n"
     ]
    }
   ],
   "source": [
    "## Caso demanda > oferta\n",
    "\n",
    "\n",
    "#Variable de decision\n",
    "x=cvx.Variable((4,4),nonneg = True)\n",
    "\n",
    "#Funcion objetivo\n",
    "\n",
    "c = [\n",
    "    [5,3,6,0],\n",
    "    [2,6,1,0],\n",
    "    [7,6,2,0],\n",
    "    [3,1,4,0]\n",
    "]\n",
    "\n",
    "Z =  cvx.Minimize(cvx.sum(cvx.multiply(c,x)))\n",
    "#Restricciones\n",
    "\n",
    "print(cvx.multiply(c,x))\n",
    "\n",
    "r=[\n",
    "    #Oferta\n",
    "    cvx.sum(x[0,:])<=50,\n",
    "    cvx.sum(x[1,:])<=60,\n",
    "    cvx.sum(x[2,:])<=50,\n",
    "    cvx.sum(x[3,:])<=40,\n",
    "\n",
    "    #Demanda\n",
    "\n",
    "    cvx.sum(x[:,0])>=30,\n",
    "    cvx.sum(x[:,1])>=70,\n",
    "    cvx.sum(x[:,2])>=90,\n",
    "    cvx.sum(x[:,3])>=10,\n",
    "    \n",
    "]\n",
    "\n",
    "P = cvx.Problem(Z,r)\n",
    "P.solve()\n",
    "print(P.status)\n",
    "print(round(P.value,2))\n",
    "print(np.round(x.value,0))"
   ]
  },
  {
   "attachments": {},
   "cell_type": "markdown",
   "metadata": {},
   "source": [
    "<h1>Maxi Cervezas</h1>\n",
    "<img src=\"Maxi-Cervezas3.png\">"
   ]
  },
  {
   "cell_type": "code",
   "execution_count": 100,
   "metadata": {},
   "outputs": [
    {
     "name": "stdout",
     "output_type": "stream",
     "text": [
      "[[3. 7. 1. 6.]\n",
      " [1. 5. 8. 9.]\n",
      " [6. 1. 2. 4.]\n",
      " [5. 1. 6. 2.]] @ var14272\n",
      "optimal\n",
      "360.0\n",
      "[[40.  0. 40.  0.]\n",
      " [30.  0.  0.  0.]\n",
      " [ 0. 30. 30.  0.]\n",
      " [ 0. 10.  0. 35.]]\n"
     ]
    }
   ],
   "source": [
    "## Caso demanda = oferta\n",
    "\n",
    "# Caso oferta==Demanda\n",
    "\n",
    "#Variable de decision\n",
    "x=cvx.Variable((4,4),nonneg = True)\n",
    "\n",
    "#Funcion objetivo\n",
    "\n",
    "c = [\n",
    "    [3,1,6,5],\n",
    "    [7,5,1,1],\n",
    "    [1,8,2,6],\n",
    "    [6,9,4,2]\n",
    "]\n",
    "\n",
    "Z =  cvx.Minimize(cvx.sum(cvx.multiply(c,x)))\n",
    "#Restricciones\n",
    "\n",
    "print(cvx.multiply(c,x))\n",
    "\n",
    "r=[\n",
    "    #Oferta\n",
    "    cvx.sum(x[0,:])<=80,\n",
    "    cvx.sum(x[1,:])<=30,\n",
    "    cvx.sum(x[2,:])<=60,\n",
    "    cvx.sum(x[3,:])<=45,\n",
    "\n",
    "    #Demanda\n",
    "\n",
    "    cvx.sum(x[:,0])>=70,\n",
    "    cvx.sum(x[:,1])>=40,\n",
    "    cvx.sum(x[:,2])>=70,\n",
    "    cvx.sum(x[:,3])>=35,\n",
    "    \n",
    "]\n",
    "\n",
    "P = cvx.Problem(Z,r)\n",
    "P.solve()\n",
    "print(P.status)\n",
    "print(round(P.value,2))\n",
    "print(np.round(x.value,0))"
   ]
  },
  {
   "cell_type": "code",
   "execution_count": 95,
   "metadata": {},
   "outputs": [
    {
     "name": "stdout",
     "output_type": "stream",
     "text": [
      "[[5. 2. 7. 3.]\n",
      " [3. 6. 6. 1.]\n",
      " [6. 1. 2. 4.]\n",
      " [4. 3. 6. 6.]] @ var13310\n",
      "optimal\n",
      "650.0\n",
      "[[27. 25.  6. 22.]\n",
      " [17.  0.  0. 13.]\n",
      " [ 0.  0. 60.  0.]\n",
      " [26. 15.  4.  0.]]\n"
     ]
    }
   ],
   "source": [
    "## Caso condicional\n",
    "\n",
    "# Caso oferta==Demanda\n",
    "\n",
    "#Variable de decision\n",
    "x=cvx.Variable((4,4),nonneg = True)\n",
    "\n",
    "#Funcion objetivo\n",
    "\n",
    "c = [\n",
    "    [5,3,6,4],\n",
    "    [2,6,1,3],\n",
    "    [7,6,2,6],\n",
    "    [3,1,4,6]\n",
    "]\n",
    "\n",
    "Z =  cvx.Minimize(cvx.sum(cvx.multiply(c,x)))\n",
    "#Restricciones\n",
    "\n",
    "print(cvx.multiply(c,x))\n",
    "\n",
    "r=[\n",
    "    #Oferta\n",
    "    cvx.sum(x[0,:])<=80,\n",
    "    cvx.sum(x[1,:])<=30,\n",
    "    cvx.sum(x[2,:])<=60,\n",
    "    cvx.sum(x[3,:])<=45,\n",
    "\n",
    "    #Demanda\n",
    "\n",
    "    cvx.sum(x[:,0])>=70,\n",
    "    cvx.sum(x[:,1])>=40,\n",
    "    cvx.sum(x[:,2])>=70,\n",
    "    cvx.sum(x[:,3])>=35,\n",
    "\n",
    "    x[0,1]<=25\n",
    "    \n",
    "]\n",
    "\n",
    "P = cvx.Problem(Z,r)\n",
    "P.solve()\n",
    "print(P.status)\n",
    "print(round(P.value,2))\n",
    "print(np.round(x.value,0))"
   ]
  },
  {
   "attachments": {},
   "cell_type": "markdown",
   "metadata": {},
   "source": [
    "<h1>Problema de autos</h1>\n",
    "<img src=\"Autos.png\">"
   ]
  },
  {
   "cell_type": "code",
   "execution_count": 111,
   "metadata": {},
   "outputs": [
    {
     "name": "stdout",
     "output_type": "stream",
     "text": [
      "[[ 82. 215.]\n",
      " [100. 108.]\n",
      " [102.  50.]] @ var16046[0, 0]\n",
      "optimal\n",
      "293600.0\n",
      "[[1000.    0.]\n",
      " [1300.  200.]\n",
      " [   0. 1200.]]\n"
     ]
    }
   ],
   "source": [
    "## Caso demanda = oferta\n",
    "\n",
    "# Caso oferta==Demanda\n",
    "\n",
    "#Variable de decision\n",
    "x=cvx.Variable((3,2),nonneg = True)\n",
    "\n",
    "#Funcion objetivo\n",
    "a=82\n",
    "b=50\n",
    "c = [\n",
    "    [1*a,1*100,1*102],\n",
    "    [1*215,1*108,1*b]\n",
    "]\n",
    "\n",
    "Z =  cvx.Minimize(cvx.sum(cvx.multiply(c,x)))\n",
    "#Restricciones\n",
    "\n",
    "a=cvx.multiply(c,x)\n",
    "print(a[0,0])\n",
    "r=[\n",
    "    #Oferta\n",
    "    cvx.sum(x[0,:])<=1000,\n",
    "    cvx.sum(x[1,:])<=1500,\n",
    "    cvx.sum(x[2,:])<=1200,\n",
    "\n",
    "    #Demanda\n",
    "\n",
    "    cvx.sum(x[:,0])>=2300,\n",
    "    cvx.sum(x[:,1])>=1400,\n",
    "    \n",
    "]\n",
    "\n",
    "P = cvx.Problem(Z,r)\n",
    "P.solve()\n",
    "print(P.status)\n",
    "print(round(P.value,2))\n",
    "print(np.round(x.value,0))"
   ]
  },
  {
   "cell_type": "code",
   "execution_count": 78,
   "metadata": {},
   "outputs": [
    {
     "name": "stdout",
     "output_type": "stream",
     "text": [
      "0.05113704752111581\n",
      "[[0.58777905 0.05113705 0.81385394]\n",
      " [0.99808581 0.18839183 0.21898992]\n",
      " [0.377077   0.07828791 0.70191067]]\n"
     ]
    }
   ],
   "source": [
    "import numpy as np\n",
    "\n",
    "# Crear una matriz de 3x3 con valores aleatorios entre 0 y 1\n",
    "matriz = np.random.rand(3, 3)\n",
    "\n",
    "print(matriz[0,1])\n",
    "\n",
    "print(matriz)"
   ]
  }
 ],
 "metadata": {
  "kernelspec": {
   "display_name": "Python 3",
   "language": "python",
   "name": "python3"
  },
  "language_info": {
   "codemirror_mode": {
    "name": "ipython",
    "version": 3
   },
   "file_extension": ".py",
   "mimetype": "text/x-python",
   "name": "python",
   "nbconvert_exporter": "python",
   "pygments_lexer": "ipython3",
   "version": "3.11.0"
  },
  "orig_nbformat": 4
 },
 "nbformat": 4,
 "nbformat_minor": 2
}
